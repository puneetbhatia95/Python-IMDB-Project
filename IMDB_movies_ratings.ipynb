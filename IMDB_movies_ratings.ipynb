{
 "cells": [
  {
   "cell_type": "markdown",
   "metadata": {},
   "source": [
    "## BANA 8090 Final Project- Movies' Ratings Prediction"
   ]
  },
  {
   "cell_type": "markdown",
   "metadata": {},
   "source": [
    "In this project, we will be performing: \n",
    "- Web scraping on IMDb website to get data from 10000 movies\n",
    "- Merge the data from IMDb website with a dataset from Kaggle \n",
    "- Exploratory Data Analysis to summarize variables that will be used to predict movies' ratings\n",
    "- Modeling using: Linear Regression, Regression Tree, Random Forest, Neural Network\n",
    "- The MSE of each model will be calculated to compare models and choose one"
   ]
  },
  {
   "cell_type": "markdown",
   "metadata": {},
   "source": [
    "### Importing the packages needed"
   ]
  },
  {
   "cell_type": "code",
   "execution_count": 1,
   "metadata": {},
   "outputs": [
    {
     "name": "stderr",
     "output_type": "stream",
     "text": [
      "Using TensorFlow backend.\n"
     ]
    }
   ],
   "source": [
    "import lxml\n",
    "import re\n",
    "import numpy as np\n",
    "import pandas as pd\n",
    "\n",
    "from bs4 import BeautifulSoup\n",
    "from requests import get\n",
    "from sklearn.preprocessing import OneHotEncoder\n",
    "import seaborn as sns \n",
    "from sklearn.model_selection import train_test_split \n",
    "from sklearn.linear_model import LinearRegression\n",
    "from sklearn import metrics\n",
    "from sklearn.metrics import r2_score,mean_squared_error\n",
    "import matplotlib.pyplot as plt\n",
    "from numpy import loadtxt\n",
    "from keras.models import Sequential\n",
    "from keras.layers import Dense\n",
    "from sklearn.ensemble import RandomForestRegressor\n",
    "from sklearn.metrics import mean_absolute_error \n",
    "from sklearn.tree import DecisionTreeRegressor"
   ]
  },
  {
   "cell_type": "markdown",
   "metadata": {},
   "source": [
    "### Web Scraping"
   ]
  },
  {
   "cell_type": "code",
   "execution_count": 2,
   "metadata": {},
   "outputs": [
    {
     "name": "stdout",
     "output_type": "stream",
     "text": [
      "Subject:  Feature Film/TV Series(Sorted by Popularity Ascending) \n",
      "Subject:  Feature Film/TV Series(Sorted by Popularity Ascending) \n",
      "Subject:  Feature Film/TV Series(Sorted by Popularity Ascending) \n",
      "Subject:  Feature Film/TV Series(Sorted by Popularity Ascending) \n",
      "Subject:  Feature Film/TV Series(Sorted by Popularity Ascending) \n",
      "Subject:  Feature Film/TV Series(Sorted by Popularity Ascending) \n",
      "Subject:  Feature Film/TV Series(Sorted by Popularity Ascending) \n",
      "Subject:  Feature Film/TV Series(Sorted by Popularity Ascending) \n",
      "Subject:  Feature Film/TV Series(Sorted by Popularity Ascending) \n",
      "Subject:  Feature Film/TV Series(Sorted by Popularity Ascending) \n",
      "Subject:  Feature Film/TV Series(Sorted by Popularity Ascending) \n",
      "Subject:  Feature Film/TV Series(Sorted by Popularity Ascending) \n",
      "Subject:  Feature Film/TV Series(Sorted by Popularity Ascending) \n",
      "Subject:  Feature Film/TV Series(Sorted by Popularity Ascending) \n",
      "Subject:  Feature Film/TV Series(Sorted by Popularity Ascending) \n",
      "Subject:  Feature Film/TV Series(Sorted by Popularity Ascending) \n",
      "Subject:  Feature Film/TV Series(Sorted by Popularity Ascending) \n",
      "Subject:  Feature Film/TV Series(Sorted by Popularity Ascending) \n",
      "Subject:  Feature Film/TV Series(Sorted by Popularity Ascending) \n",
      "Subject:  Feature Film/TV Series(Sorted by Popularity Ascending) \n",
      "Subject:  Feature Film/TV Series(Sorted by Popularity Ascending) \n",
      "Subject:  Feature Film/TV Series(Sorted by Popularity Ascending) \n",
      "Subject:  Feature Film/TV Series(Sorted by Popularity Ascending) \n",
      "Subject:  Feature Film/TV Series(Sorted by Popularity Ascending) \n",
      "Subject:  Feature Film/TV Series(Sorted by Popularity Ascending) \n",
      "Subject:  Feature Film/TV Series(Sorted by Popularity Ascending) \n",
      "Subject:  Feature Film/TV Series(Sorted by Popularity Ascending) \n",
      "Subject:  Feature Film/TV Series(Sorted by Popularity Ascending) \n",
      "Subject:  Feature Film/TV Series(Sorted by Popularity Ascending) \n",
      "Subject:  Feature Film/TV Series(Sorted by Popularity Ascending) \n",
      "Subject:  Feature Film/TV Series(Sorted by Popularity Ascending) \n",
      "Subject:  Feature Film/TV Series(Sorted by Popularity Ascending) \n",
      "Subject:  Feature Film/TV Series(Sorted by Popularity Ascending) \n",
      "Subject:  Feature Film/TV Series(Sorted by Popularity Ascending) \n",
      "Subject:  Feature Film/TV Series(Sorted by Popularity Ascending) \n",
      "Subject:  Feature Film/TV Series(Sorted by Popularity Ascending) \n",
      "Subject:  Feature Film/TV Series(Sorted by Popularity Ascending) \n",
      "Subject:  Feature Film/TV Series(Sorted by Popularity Ascending) \n",
      "Subject:  Feature Film/TV Series(Sorted by Popularity Ascending) \n",
      "Subject:  Feature Film/TV Series(Sorted by Popularity Ascending) \n"
     ]
    }
   ],
   "source": [
    "#creating the list of urls\n",
    "url1=[]\n",
    "\n",
    "pages= np.arange(1,10000,249)\n",
    "for i in pages:\n",
    "    url1.append(\"https://www.imdb.com/search/title/?title_type=feature,tv_series&count=249&start=\" + str(i)+\"&ref_=adv_nxt\") \n",
    "\n",
    "#creating web scraping function\n",
    "class IMDB(object):\n",
    "\t\"\"\"docstring for IMDB\"\"\"\n",
    "\tdef __init__(self, url):\n",
    "\t\tsuper(IMDB, self).__init__()\n",
    "\t\tpage = get(url)\n",
    "\n",
    "\t\tself.soup = BeautifulSoup(page.content, 'lxml')\n",
    "\n",
    "\tdef articleTitle(self):\n",
    "\t\treturn self.soup.find(\"h1\", class_=\"header\").text.replace(\"\\n\",\"\")\n",
    "\n",
    "\tdef bodyContent(self):\n",
    "\t\tcontent = self.soup.find(id=\"main\")\n",
    "\t\treturn content.find_all(\"div\", class_=\"lister-item mode-advanced\")\n",
    "\n",
    "\tdef movieData(self):\n",
    "\t\tmovieFrame = self.bodyContent()\n",
    "\t\tmovieTitle = []\n",
    "\t\tmovieDate = []\n",
    "\t\tmovieRunTime = []\n",
    "\t\tmovieGenre = []\n",
    "\t\tmovieRating = []\n",
    "\t\tmovieScore = []\n",
    "\t\tmovieDescription = []\n",
    "\t\tmovieDirector = []\n",
    "\t\tmovieStars = []\n",
    "\t\tmovieVotes = []\n",
    "\t\tmovieGross = []\n",
    "\t\tmovieMetascore1 = []\n",
    "\t\tmovieMetascore2 = []\n",
    "\t\tmovieMetascore3 = []\n",
    "\t\tfor movie in movieFrame:\n",
    "\t\t\tmovieFirstLine = movie.find(\"h3\", class_=\"lister-item-header\")\n",
    "\t\t\tmovieTitle.append(movieFirstLine.find(\"a\").text)\n",
    "\t\t\tmovieDate.append(re.sub(r\"[()]\",\"\", movieFirstLine.find_all(\"span\")[-1].text))\n",
    "\t\t\ttry:\n",
    "\t\t\t\tmovieRunTime.append(movie.find(\"span\", class_=\"runtime\").text[:-4])\n",
    "\t\t\texcept:\n",
    "\t\t\t\tmovieRunTime.append(np.nan)\n",
    "#\t\t\tmovieGenre.append(movie.find(\"span\", class_=\"genre\").text.rstrip().replace(\"\\n\",\"\").split(\",\"))\n",
    "\t\t\ttry:\n",
    "\t\t\t\tmovieRating.append(movie.find(\"strong\").text)\n",
    "\t\t\texcept:\n",
    "\t\t\t\tmovieRating.append(np.nan)\n",
    "\t\t\ttry:\n",
    "\t\t\t\tmovieScore.append(movie.find(\"span\", class_=\"metascore unfavorable\" ).text.rstrip())\n",
    "\t\t\texcept:\n",
    "\t\t\t\tmovieScore.append(np.nan)\n",
    "\t\t\tmovieDescription.append(movie.find_all(\"p\", class_=\"text-muted\")[-1].text.lstrip())\n",
    "\t\t\tmovieCast = movie.find(\"p\", class_=\"\")\n",
    "\n",
    "\t\t\ttry:\n",
    "\t\t\t\tcasts = movieCast.text.replace(\"\\n\",\"\").split('|')\n",
    "\t\t\t\tcasts = [x.strip() for x in casts]\n",
    "\t\t\t\tcasts = [casts[i].replace(j, \"\") for i,j in enumerate([\"Director:\", \"Stars:\"])]\n",
    "\t\t\t\tmovieDirector.append(casts[0])\n",
    "\t\t\t\tmovieStars.append([x.strip() for x in casts[1].split(\",\")])\n",
    "\t\t\texcept:\n",
    "\t\t\t\tcasts = movieCast.text.replace(\"\\n\",\"\").strip()\n",
    "\t\t\t\tmovieDirector.append(np.nan)\n",
    "\t\t\t\tmovieStars.append([x.strip() for x in casts.split(\",\")])\n",
    "\n",
    "\t\t\tmovieNumbers = movie.find_all(\"span\", attrs={\"name\": \"nv\"})\n",
    "\n",
    "\t\t\tif len(movieNumbers) == 2:\n",
    "\t\t\t\tmovieVotes.append(movieNumbers[0].text)\n",
    "\t\t\t\tmovieGross.append(movieNumbers[1].text)\n",
    "\t\t\telif len(movieNumbers) == 1:\n",
    "\t\t\t\tmovieVotes.append(movieNumbers[0].text)\n",
    "\t\t\t\tmovieGross.append(np.nan)\n",
    "\t\t\telse:\n",
    "\t\t\t\tmovieVotes.append(np.nan)\n",
    "\t\t\t\tmovieGross.append(np.nan)\n",
    "\n",
    "\t\t\tmovieNumbers2 = movie.find_all(\"span\", class_=\"metascore unfavorable\")\n",
    "\n",
    "\t\t\tif len(movieNumbers2) == 1:\n",
    "\t\t\t\tmovieMetascore1.append(movieNumbers2[0].text)\n",
    "\t\t\telse:\n",
    "\t\t\t\tmovieMetascore1.append(np.nan)\n",
    "\n",
    "\t\t\tmovieNumbers3 = movie.find_all(\"span\", class_=\"metascore favorable\")\n",
    "\n",
    "\t\t\tif len(movieNumbers3) == 1:\n",
    "\t\t\t\tmovieMetascore2.append(movieNumbers3[0].text)\n",
    "\t\t\telse:\n",
    "\t\t\t\tmovieMetascore2.append(np.nan)\n",
    "                \n",
    "                \n",
    "\t\t\tmovieNumbers4 = movie.find_all(\"span\", class_=\"metascore mixed\")\n",
    "\n",
    "\t\t\tif len(movieNumbers4) == 1:\n",
    "\t\t\t\tmovieMetascore3.append(movieNumbers4[0].text)\n",
    "\t\t\telse:\n",
    "\t\t\t\tmovieMetascore3.append(np.nan)\n",
    "\n",
    "\n",
    "\t\tmovieData = [movieTitle, movieDate, movieRunTime,  movieRating, movieScore, movieDescription,\n",
    "\t\t\t\t\t\t\tmovieDirector, movieStars, movieVotes, movieGross, movieMetascore1, movieMetascore2, movieMetascore3]\n",
    "\t\treturn movieData\n",
    "    \n",
    "#Applying IMDB function on lists of urls and storing data\n",
    "data = []\n",
    "for i in range(40):\n",
    "    if __name__ == '__main__':\n",
    "        site1=IMDB(url1[i])\n",
    "        print(\"Subject: \", site1.articleTitle())\n",
    "        data.append(site1.movieData())\n",
    "#\tfor i in range(len(data)):\n",
    "#\t\tprint(data[i][:])"
   ]
  },
  {
   "cell_type": "markdown",
   "metadata": {},
   "source": [
    "### Data pre-processing"
   ]
  },
  {
   "cell_type": "code",
   "execution_count": 3,
   "metadata": {},
   "outputs": [],
   "source": [
    "#Appending data from 40 urls\n",
    "for i in range(len(data)):\n",
    "    data[i]=pd.DataFrame(data[i]).transpose()\n",
    "    \n",
    "df=data[0].append([data[1],data[2],data[3],data[4],data[5],\n",
    "data[6],data[7],data[8],data[9],data[10],data[11],data[12],data[13],data[14],data[15],data[16],data[17],data[18],data[19],data[20],\n",
    "data[21],data[22],data[23],data[24],data[25],data[26],data[27],data[28],data[29],\n",
    "data[30],data[31],data[32],data[33],data[34],data[35],data[36],data[37],data[38],data[39]])"
   ]
  },
  {
   "cell_type": "code",
   "execution_count": 4,
   "metadata": {},
   "outputs": [
    {
     "data": {
      "text/html": [
       "<div>\n",
       "<style scoped>\n",
       "    .dataframe tbody tr th:only-of-type {\n",
       "        vertical-align: middle;\n",
       "    }\n",
       "\n",
       "    .dataframe tbody tr th {\n",
       "        vertical-align: top;\n",
       "    }\n",
       "\n",
       "    .dataframe thead th {\n",
       "        text-align: right;\n",
       "    }\n",
       "</style>\n",
       "<table border=\"1\" class=\"dataframe\">\n",
       "  <thead>\n",
       "    <tr style=\"text-align: right;\">\n",
       "      <th></th>\n",
       "      <th>0</th>\n",
       "      <th>year</th>\n",
       "      <th>2</th>\n",
       "      <th>3</th>\n",
       "      <th>4</th>\n",
       "      <th>5</th>\n",
       "      <th>6</th>\n",
       "      <th>7</th>\n",
       "      <th>8</th>\n",
       "      <th>9</th>\n",
       "      <th>10</th>\n",
       "      <th>11</th>\n",
       "      <th>12</th>\n",
       "    </tr>\n",
       "  </thead>\n",
       "  <tbody>\n",
       "    <tr>\n",
       "      <td>0</td>\n",
       "      <td>Money Heist</td>\n",
       "      <td>2017–</td>\n",
       "      <td>70</td>\n",
       "      <td>8.5</td>\n",
       "      <td>NaN</td>\n",
       "      <td>An unusual group of robbers attempt to carry o...</td>\n",
       "      <td>NaN</td>\n",
       "      <td>[Stars:Úrsula Corberó, Álvaro Morte, Itziar It...</td>\n",
       "      <td>221,510</td>\n",
       "      <td>NaN</td>\n",
       "      <td>NaN</td>\n",
       "      <td>NaN</td>\n",
       "      <td>NaN</td>\n",
       "    </tr>\n",
       "    <tr>\n",
       "      <td>1</td>\n",
       "      <td>Ozark</td>\n",
       "      <td>2017–</td>\n",
       "      <td>60</td>\n",
       "      <td>8.4</td>\n",
       "      <td>NaN</td>\n",
       "      <td>A financial advisor drags his family from Chic...</td>\n",
       "      <td>NaN</td>\n",
       "      <td>[Stars:Jason Bateman, Laura Linney, Sofia Hubl...</td>\n",
       "      <td>139,878</td>\n",
       "      <td>NaN</td>\n",
       "      <td>NaN</td>\n",
       "      <td>NaN</td>\n",
       "      <td>NaN</td>\n",
       "    </tr>\n",
       "    <tr>\n",
       "      <td>2</td>\n",
       "      <td>Onward</td>\n",
       "      <td>I 2020</td>\n",
       "      <td>102</td>\n",
       "      <td>7.5</td>\n",
       "      <td>NaN</td>\n",
       "      <td>Two elven brothers embark on a quest to bring ...</td>\n",
       "      <td>Dan Scanlon</td>\n",
       "      <td>[Tom Holland, Chris Pratt, Julia Louis-Dreyfus...</td>\n",
       "      <td>44,530</td>\n",
       "      <td>NaN</td>\n",
       "      <td>NaN</td>\n",
       "      <td>61</td>\n",
       "      <td>NaN</td>\n",
       "    </tr>\n",
       "    <tr>\n",
       "      <td>3</td>\n",
       "      <td>Westworld</td>\n",
       "      <td>2016–</td>\n",
       "      <td>62</td>\n",
       "      <td>8.7</td>\n",
       "      <td>NaN</td>\n",
       "      <td>Set at the intersection of the near future and...</td>\n",
       "      <td>NaN</td>\n",
       "      <td>[Stars:Evan Rachel Wood, Jeffrey Wright, Ed Ha...</td>\n",
       "      <td>389,863</td>\n",
       "      <td>NaN</td>\n",
       "      <td>NaN</td>\n",
       "      <td>NaN</td>\n",
       "      <td>NaN</td>\n",
       "    </tr>\n",
       "    <tr>\n",
       "      <td>4</td>\n",
       "      <td>The Walking Dead</td>\n",
       "      <td>2010–</td>\n",
       "      <td>44</td>\n",
       "      <td>8.2</td>\n",
       "      <td>NaN</td>\n",
       "      <td>Sheriff Deputy Rick Grimes wakes up from a com...</td>\n",
       "      <td>NaN</td>\n",
       "      <td>[Stars:Andrew Lincoln, Norman Reedus, Melissa ...</td>\n",
       "      <td>822,583</td>\n",
       "      <td>NaN</td>\n",
       "      <td>NaN</td>\n",
       "      <td>NaN</td>\n",
       "      <td>NaN</td>\n",
       "    </tr>\n",
       "  </tbody>\n",
       "</table>\n",
       "</div>"
      ],
      "text/plain": [
       "                  0    year    2    3    4  \\\n",
       "0       Money Heist  2017–    70  8.5  NaN   \n",
       "1             Ozark  2017–    60  8.4  NaN   \n",
       "2            Onward  I 2020  102  7.5  NaN   \n",
       "3         Westworld  2016–    62  8.7  NaN   \n",
       "4  The Walking Dead  2010–    44  8.2  NaN   \n",
       "\n",
       "                                                   5            6  \\\n",
       "0  An unusual group of robbers attempt to carry o...          NaN   \n",
       "1  A financial advisor drags his family from Chic...          NaN   \n",
       "2  Two elven brothers embark on a quest to bring ...  Dan Scanlon   \n",
       "3  Set at the intersection of the near future and...          NaN   \n",
       "4  Sheriff Deputy Rick Grimes wakes up from a com...          NaN   \n",
       "\n",
       "                                                   7        8    9   10  \\\n",
       "0  [Stars:Úrsula Corberó, Álvaro Morte, Itziar It...  221,510  NaN  NaN   \n",
       "1  [Stars:Jason Bateman, Laura Linney, Sofia Hubl...  139,878  NaN  NaN   \n",
       "2  [Tom Holland, Chris Pratt, Julia Louis-Dreyfus...   44,530  NaN  NaN   \n",
       "3  [Stars:Evan Rachel Wood, Jeffrey Wright, Ed Ha...  389,863  NaN  NaN   \n",
       "4  [Stars:Andrew Lincoln, Norman Reedus, Melissa ...  822,583  NaN  NaN   \n",
       "\n",
       "           11   12  \n",
       "0         NaN  NaN  \n",
       "1         NaN  NaN  \n",
       "2  61          NaN  \n",
       "3         NaN  NaN  \n",
       "4         NaN  NaN  "
      ]
     },
     "execution_count": 4,
     "metadata": {},
     "output_type": "execute_result"
    }
   ],
   "source": [
    "#Renaming the year column\n",
    "df_new = df.rename(columns={1: 'year'})\n",
    "df_new.head()"
   ]
  },
  {
   "cell_type": "code",
   "execution_count": 5,
   "metadata": {},
   "outputs": [],
   "source": [
    "#Creating a column for metascore \n",
    "df_new['meta']=np.nan"
   ]
  },
  {
   "cell_type": "code",
   "execution_count": 6,
   "metadata": {},
   "outputs": [],
   "source": [
    "#Assigning value to metascore column\n",
    "for i in range(len(df_new)):\n",
    "    if (pd.notnull(df_new.iloc[i,10])):\n",
    "        df_new.iloc[i,13]=df_new.iloc[i,10]\n",
    "    elif (pd.notnull(df_new.iloc[i,11])):\n",
    "        df_new.iloc[i,13]=df_new.iloc[i,11]\n",
    "    else: \n",
    "        df_new.iloc[i,13]=df_new.iloc[i,12]"
   ]
  },
  {
   "cell_type": "code",
   "execution_count": 7,
   "metadata": {},
   "outputs": [
    {
     "data": {
      "text/html": [
       "<div>\n",
       "<style scoped>\n",
       "    .dataframe tbody tr th:only-of-type {\n",
       "        vertical-align: middle;\n",
       "    }\n",
       "\n",
       "    .dataframe tbody tr th {\n",
       "        vertical-align: top;\n",
       "    }\n",
       "\n",
       "    .dataframe thead th {\n",
       "        text-align: right;\n",
       "    }\n",
       "</style>\n",
       "<table border=\"1\" class=\"dataframe\">\n",
       "  <thead>\n",
       "    <tr style=\"text-align: right;\">\n",
       "      <th></th>\n",
       "      <th>0</th>\n",
       "      <th>year</th>\n",
       "      <th>2</th>\n",
       "      <th>3</th>\n",
       "      <th>4</th>\n",
       "      <th>5</th>\n",
       "      <th>6</th>\n",
       "      <th>7</th>\n",
       "      <th>8</th>\n",
       "      <th>9</th>\n",
       "      <th>10</th>\n",
       "      <th>11</th>\n",
       "      <th>12</th>\n",
       "      <th>meta</th>\n",
       "    </tr>\n",
       "  </thead>\n",
       "  <tbody>\n",
       "    <tr>\n",
       "      <td>0</td>\n",
       "      <td>Money Heist</td>\n",
       "      <td>2017–</td>\n",
       "      <td>70</td>\n",
       "      <td>8.5</td>\n",
       "      <td>NaN</td>\n",
       "      <td>An unusual group of robbers attempt to carry o...</td>\n",
       "      <td>NaN</td>\n",
       "      <td>[Stars:Úrsula Corberó, Álvaro Morte, Itziar It...</td>\n",
       "      <td>221,510</td>\n",
       "      <td>NaN</td>\n",
       "      <td>NaN</td>\n",
       "      <td>NaN</td>\n",
       "      <td>NaN</td>\n",
       "      <td>NaN</td>\n",
       "    </tr>\n",
       "    <tr>\n",
       "      <td>1</td>\n",
       "      <td>Ozark</td>\n",
       "      <td>2017–</td>\n",
       "      <td>60</td>\n",
       "      <td>8.4</td>\n",
       "      <td>NaN</td>\n",
       "      <td>A financial advisor drags his family from Chic...</td>\n",
       "      <td>NaN</td>\n",
       "      <td>[Stars:Jason Bateman, Laura Linney, Sofia Hubl...</td>\n",
       "      <td>139,878</td>\n",
       "      <td>NaN</td>\n",
       "      <td>NaN</td>\n",
       "      <td>NaN</td>\n",
       "      <td>NaN</td>\n",
       "      <td>NaN</td>\n",
       "    </tr>\n",
       "    <tr>\n",
       "      <td>2</td>\n",
       "      <td>Onward</td>\n",
       "      <td>I 2020</td>\n",
       "      <td>102</td>\n",
       "      <td>7.5</td>\n",
       "      <td>NaN</td>\n",
       "      <td>Two elven brothers embark on a quest to bring ...</td>\n",
       "      <td>Dan Scanlon</td>\n",
       "      <td>[Tom Holland, Chris Pratt, Julia Louis-Dreyfus...</td>\n",
       "      <td>44,530</td>\n",
       "      <td>NaN</td>\n",
       "      <td>NaN</td>\n",
       "      <td>61</td>\n",
       "      <td>NaN</td>\n",
       "      <td>61</td>\n",
       "    </tr>\n",
       "    <tr>\n",
       "      <td>3</td>\n",
       "      <td>Westworld</td>\n",
       "      <td>2016–</td>\n",
       "      <td>62</td>\n",
       "      <td>8.7</td>\n",
       "      <td>NaN</td>\n",
       "      <td>Set at the intersection of the near future and...</td>\n",
       "      <td>NaN</td>\n",
       "      <td>[Stars:Evan Rachel Wood, Jeffrey Wright, Ed Ha...</td>\n",
       "      <td>389,863</td>\n",
       "      <td>NaN</td>\n",
       "      <td>NaN</td>\n",
       "      <td>NaN</td>\n",
       "      <td>NaN</td>\n",
       "      <td>NaN</td>\n",
       "    </tr>\n",
       "    <tr>\n",
       "      <td>4</td>\n",
       "      <td>The Walking Dead</td>\n",
       "      <td>2010–</td>\n",
       "      <td>44</td>\n",
       "      <td>8.2</td>\n",
       "      <td>NaN</td>\n",
       "      <td>Sheriff Deputy Rick Grimes wakes up from a com...</td>\n",
       "      <td>NaN</td>\n",
       "      <td>[Stars:Andrew Lincoln, Norman Reedus, Melissa ...</td>\n",
       "      <td>822,583</td>\n",
       "      <td>NaN</td>\n",
       "      <td>NaN</td>\n",
       "      <td>NaN</td>\n",
       "      <td>NaN</td>\n",
       "      <td>NaN</td>\n",
       "    </tr>\n",
       "  </tbody>\n",
       "</table>\n",
       "</div>"
      ],
      "text/plain": [
       "                  0    year    2    3    4  \\\n",
       "0       Money Heist  2017–    70  8.5  NaN   \n",
       "1             Ozark  2017–    60  8.4  NaN   \n",
       "2            Onward  I 2020  102  7.5  NaN   \n",
       "3         Westworld  2016–    62  8.7  NaN   \n",
       "4  The Walking Dead  2010–    44  8.2  NaN   \n",
       "\n",
       "                                                   5            6  \\\n",
       "0  An unusual group of robbers attempt to carry o...          NaN   \n",
       "1  A financial advisor drags his family from Chic...          NaN   \n",
       "2  Two elven brothers embark on a quest to bring ...  Dan Scanlon   \n",
       "3  Set at the intersection of the near future and...          NaN   \n",
       "4  Sheriff Deputy Rick Grimes wakes up from a com...          NaN   \n",
       "\n",
       "                                                   7        8    9   10  \\\n",
       "0  [Stars:Úrsula Corberó, Álvaro Morte, Itziar It...  221,510  NaN  NaN   \n",
       "1  [Stars:Jason Bateman, Laura Linney, Sofia Hubl...  139,878  NaN  NaN   \n",
       "2  [Tom Holland, Chris Pratt, Julia Louis-Dreyfus...   44,530  NaN  NaN   \n",
       "3  [Stars:Evan Rachel Wood, Jeffrey Wright, Ed Ha...  389,863  NaN  NaN   \n",
       "4  [Stars:Andrew Lincoln, Norman Reedus, Melissa ...  822,583  NaN  NaN   \n",
       "\n",
       "           11   12        meta  \n",
       "0         NaN  NaN         NaN  \n",
       "1         NaN  NaN         NaN  \n",
       "2  61          NaN  61          \n",
       "3         NaN  NaN         NaN  \n",
       "4         NaN  NaN         NaN  "
      ]
     },
     "execution_count": 7,
     "metadata": {},
     "output_type": "execute_result"
    }
   ],
   "source": [
    "df_new.head()"
   ]
  },
  {
   "cell_type": "code",
   "execution_count": 8,
   "metadata": {},
   "outputs": [],
   "source": [
    "#Dropping metascore columns \n",
    "movies_df=df_new.drop(columns=[4,10,11,12],axis=1)"
   ]
  },
  {
   "cell_type": "code",
   "execution_count": 9,
   "metadata": {},
   "outputs": [],
   "source": [
    "#Renaming columns\n",
    "movies_df.columns = ['title','year','duration','rating','description','director','actors','votes','budget','metascore']"
   ]
  },
  {
   "cell_type": "code",
   "execution_count": 10,
   "metadata": {},
   "outputs": [
    {
     "data": {
      "text/html": [
       "<div>\n",
       "<style scoped>\n",
       "    .dataframe tbody tr th:only-of-type {\n",
       "        vertical-align: middle;\n",
       "    }\n",
       "\n",
       "    .dataframe tbody tr th {\n",
       "        vertical-align: top;\n",
       "    }\n",
       "\n",
       "    .dataframe thead th {\n",
       "        text-align: right;\n",
       "    }\n",
       "</style>\n",
       "<table border=\"1\" class=\"dataframe\">\n",
       "  <thead>\n",
       "    <tr style=\"text-align: right;\">\n",
       "      <th></th>\n",
       "      <th>title</th>\n",
       "      <th>year</th>\n",
       "      <th>duration</th>\n",
       "      <th>rating</th>\n",
       "      <th>description</th>\n",
       "      <th>director</th>\n",
       "      <th>actors</th>\n",
       "      <th>votes</th>\n",
       "      <th>budget</th>\n",
       "      <th>metascore</th>\n",
       "    </tr>\n",
       "  </thead>\n",
       "  <tbody>\n",
       "    <tr>\n",
       "      <td>2</td>\n",
       "      <td>Onward</td>\n",
       "      <td>I 2020</td>\n",
       "      <td>102</td>\n",
       "      <td>7.5</td>\n",
       "      <td>Two elven brothers embark on a quest to bring ...</td>\n",
       "      <td>Dan Scanlon</td>\n",
       "      <td>[Tom Holland, Chris Pratt, Julia Louis-Dreyfus...</td>\n",
       "      <td>44,530</td>\n",
       "      <td>NaN</td>\n",
       "      <td>61</td>\n",
       "    </tr>\n",
       "    <tr>\n",
       "      <td>5</td>\n",
       "      <td>The Platform</td>\n",
       "      <td>2019</td>\n",
       "      <td>94</td>\n",
       "      <td>7.0</td>\n",
       "      <td>A vertical prison with one cell per level. Two...</td>\n",
       "      <td>Galder Gaztelu-Urrutia</td>\n",
       "      <td>[Ivan Massagué, Zorion Eguileor, Antonia San J...</td>\n",
       "      <td>93,198</td>\n",
       "      <td>NaN</td>\n",
       "      <td>73</td>\n",
       "    </tr>\n",
       "    <tr>\n",
       "      <td>7</td>\n",
       "      <td>Trolls World Tour</td>\n",
       "      <td>2020</td>\n",
       "      <td>90</td>\n",
       "      <td>6.1</td>\n",
       "      <td>Poppy and Branch discover that they are but on...</td>\n",
       "      <td>Directors:Walt Dohrn, David P. Smith</td>\n",
       "      <td>[Anna Kendrick, Justin Timberlake, Rachel Bloo...</td>\n",
       "      <td>4,454</td>\n",
       "      <td>NaN</td>\n",
       "      <td>51</td>\n",
       "    </tr>\n",
       "    <tr>\n",
       "      <td>9</td>\n",
       "      <td>The Gentlemen</td>\n",
       "      <td>2019</td>\n",
       "      <td>113</td>\n",
       "      <td>8.0</td>\n",
       "      <td>An American expat tries to sell off his highly...</td>\n",
       "      <td>Guy Ritchie</td>\n",
       "      <td>[Matthew McConaughey, Charlie Hunnam, Michelle...</td>\n",
       "      <td>106,834</td>\n",
       "      <td>NaN</td>\n",
       "      <td>51</td>\n",
       "    </tr>\n",
       "    <tr>\n",
       "      <td>12</td>\n",
       "      <td>Extraction</td>\n",
       "      <td>2020</td>\n",
       "      <td>116</td>\n",
       "      <td>NaN</td>\n",
       "      <td>Tyler Rake, a fearless black market mercenary,...</td>\n",
       "      <td>Sam Hargrave</td>\n",
       "      <td>[Chris Hemsworth, Golshifteh Farahani, David H...</td>\n",
       "      <td>NaN</td>\n",
       "      <td>NaN</td>\n",
       "      <td>NaN</td>\n",
       "    </tr>\n",
       "  </tbody>\n",
       "</table>\n",
       "</div>"
      ],
      "text/plain": [
       "                title    year duration rating  \\\n",
       "2              Onward  I 2020      102    7.5   \n",
       "5        The Platform    2019       94    7.0   \n",
       "7   Trolls World Tour    2020       90    6.1   \n",
       "9       The Gentlemen    2019      113    8.0   \n",
       "12         Extraction    2020      116    NaN   \n",
       "\n",
       "                                          description  \\\n",
       "2   Two elven brothers embark on a quest to bring ...   \n",
       "5   A vertical prison with one cell per level. Two...   \n",
       "7   Poppy and Branch discover that they are but on...   \n",
       "9   An American expat tries to sell off his highly...   \n",
       "12  Tyler Rake, a fearless black market mercenary,...   \n",
       "\n",
       "                                director  \\\n",
       "2                            Dan Scanlon   \n",
       "5                 Galder Gaztelu-Urrutia   \n",
       "7   Directors:Walt Dohrn, David P. Smith   \n",
       "9                            Guy Ritchie   \n",
       "12                          Sam Hargrave   \n",
       "\n",
       "                                               actors    votes budget  \\\n",
       "2   [Tom Holland, Chris Pratt, Julia Louis-Dreyfus...   44,530    NaN   \n",
       "5   [Ivan Massagué, Zorion Eguileor, Antonia San J...   93,198    NaN   \n",
       "7   [Anna Kendrick, Justin Timberlake, Rachel Bloo...    4,454    NaN   \n",
       "9   [Matthew McConaughey, Charlie Hunnam, Michelle...  106,834    NaN   \n",
       "12  [Chris Hemsworth, Golshifteh Farahani, David H...      NaN    NaN   \n",
       "\n",
       "     metascore  \n",
       "2   61          \n",
       "5   73          \n",
       "7   51          \n",
       "9   51          \n",
       "12         NaN  "
      ]
     },
     "execution_count": 10,
     "metadata": {},
     "output_type": "execute_result"
    }
   ],
   "source": [
    "#Subsetting the data to movies subset\n",
    "movies = movies_df[~movies_df['year'].str.contains('–')]\n",
    "movies.head()"
   ]
  },
  {
   "cell_type": "code",
   "execution_count": 11,
   "metadata": {},
   "outputs": [
    {
     "name": "stderr",
     "output_type": "stream",
     "text": [
      "/opt/anaconda3/lib/python3.7/site-packages/pandas/core/indexing.py:205: SettingWithCopyWarning: \n",
      "A value is trying to be set on a copy of a slice from a DataFrame\n",
      "\n",
      "See the caveats in the documentation: http://pandas.pydata.org/pandas-docs/stable/user_guide/indexing.html#returning-a-view-versus-a-copy\n",
      "  self._setitem_with_indexer(indexer, value)\n",
      "/opt/anaconda3/lib/python3.7/site-packages/ipykernel_launcher.py:3: SettingWithCopyWarning: \n",
      "A value is trying to be set on a copy of a slice from a DataFrame\n",
      "\n",
      "See the caveats in the documentation: http://pandas.pydata.org/pandas-docs/stable/user_guide/indexing.html#returning-a-view-versus-a-copy\n",
      "  This is separate from the ipykernel package so we can avoid doing imports until\n"
     ]
    }
   ],
   "source": [
    "#Getting last 4 numbers of year\n",
    "for i in range(len(movies)):\n",
    "        movies.iloc[i,1]=movies.iloc[i,1][-4:] "
   ]
  },
  {
   "cell_type": "code",
   "execution_count": 12,
   "metadata": {},
   "outputs": [
    {
     "name": "stderr",
     "output_type": "stream",
     "text": [
      "/opt/anaconda3/lib/python3.7/site-packages/IPython/core/interactiveshell.py:3058: DtypeWarning: Columns (10) have mixed types. Specify dtype option on import or set low_memory=False.\n",
      "  interactivity=interactivity, compiler=compiler, result=result)\n"
     ]
    }
   ],
   "source": [
    "#Importing second dataset\n",
    "movies_kaggle=pd.read_csv('movies_metadata.csv')"
   ]
  },
  {
   "cell_type": "code",
   "execution_count": 13,
   "metadata": {},
   "outputs": [
    {
     "data": {
      "text/plain": [
       "Index(['adult', 'belongs_to_collection', 'budget', 'genres', 'homepage', 'id',\n",
       "       'imdb_id', 'original_language', 'original_title', 'overview',\n",
       "       'popularity', 'poster_path', 'production_companies',\n",
       "       'production_countries', 'release_date', 'revenue', 'runtime',\n",
       "       'spoken_languages', 'status', 'tagline', 'title', 'video',\n",
       "       'vote_average', 'vote_count'],\n",
       "      dtype='object')"
      ]
     },
     "execution_count": 13,
     "metadata": {},
     "output_type": "execute_result"
    }
   ],
   "source": [
    "movies_kaggle.columns"
   ]
  },
  {
   "cell_type": "code",
   "execution_count": 14,
   "metadata": {},
   "outputs": [
    {
     "data": {
      "text/html": [
       "<div>\n",
       "<style scoped>\n",
       "    .dataframe tbody tr th:only-of-type {\n",
       "        vertical-align: middle;\n",
       "    }\n",
       "\n",
       "    .dataframe tbody tr th {\n",
       "        vertical-align: top;\n",
       "    }\n",
       "\n",
       "    .dataframe thead th {\n",
       "        text-align: right;\n",
       "    }\n",
       "</style>\n",
       "<table border=\"1\" class=\"dataframe\">\n",
       "  <thead>\n",
       "    <tr style=\"text-align: right;\">\n",
       "      <th></th>\n",
       "      <th>adult</th>\n",
       "      <th>belongs_to_collection</th>\n",
       "      <th>budget</th>\n",
       "      <th>genres</th>\n",
       "      <th>homepage</th>\n",
       "      <th>id</th>\n",
       "      <th>imdb_id</th>\n",
       "      <th>original_language</th>\n",
       "      <th>original_title</th>\n",
       "      <th>overview</th>\n",
       "      <th>...</th>\n",
       "      <th>release_date</th>\n",
       "      <th>revenue</th>\n",
       "      <th>runtime</th>\n",
       "      <th>spoken_languages</th>\n",
       "      <th>status</th>\n",
       "      <th>tagline</th>\n",
       "      <th>title</th>\n",
       "      <th>video</th>\n",
       "      <th>vote_average</th>\n",
       "      <th>vote_count</th>\n",
       "    </tr>\n",
       "  </thead>\n",
       "  <tbody>\n",
       "    <tr>\n",
       "      <td>0</td>\n",
       "      <td>FALSE</td>\n",
       "      <td>{'id': 10194, 'name': 'Toy Story Collection', ...</td>\n",
       "      <td>30000000</td>\n",
       "      <td>[{'id': 16, 'name': 'Animation'}, {'id': 35, '...</td>\n",
       "      <td>http://toystory.disney.com/toy-story</td>\n",
       "      <td>862</td>\n",
       "      <td>tt0114709</td>\n",
       "      <td>en</td>\n",
       "      <td>Toy Story</td>\n",
       "      <td>Led by Woody, Andy's toys live happily in his ...</td>\n",
       "      <td>...</td>\n",
       "      <td>1995-10-30</td>\n",
       "      <td>373554033.0</td>\n",
       "      <td>81.0</td>\n",
       "      <td>[{'iso_639_1': 'en', 'name': 'English'}]</td>\n",
       "      <td>Released</td>\n",
       "      <td>NaN</td>\n",
       "      <td>Toy Story</td>\n",
       "      <td>False</td>\n",
       "      <td>7.7</td>\n",
       "      <td>5415.0</td>\n",
       "    </tr>\n",
       "    <tr>\n",
       "      <td>1</td>\n",
       "      <td>FALSE</td>\n",
       "      <td>NaN</td>\n",
       "      <td>65000000</td>\n",
       "      <td>[{'id': 12, 'name': 'Adventure'}, {'id': 14, '...</td>\n",
       "      <td>NaN</td>\n",
       "      <td>8844</td>\n",
       "      <td>tt0113497</td>\n",
       "      <td>en</td>\n",
       "      <td>Jumanji</td>\n",
       "      <td>When siblings Judy and Peter discover an encha...</td>\n",
       "      <td>...</td>\n",
       "      <td>1995-12-15</td>\n",
       "      <td>262797249.0</td>\n",
       "      <td>104.0</td>\n",
       "      <td>[{'iso_639_1': 'en', 'name': 'English'}, {'iso...</td>\n",
       "      <td>Released</td>\n",
       "      <td>Roll the dice and unleash the excitement!</td>\n",
       "      <td>Jumanji</td>\n",
       "      <td>False</td>\n",
       "      <td>6.9</td>\n",
       "      <td>2413.0</td>\n",
       "    </tr>\n",
       "    <tr>\n",
       "      <td>2</td>\n",
       "      <td>FALSE</td>\n",
       "      <td>{'id': 119050, 'name': 'Grumpy Old Men Collect...</td>\n",
       "      <td>0</td>\n",
       "      <td>[{'id': 10749, 'name': 'Romance'}, {'id': 35, ...</td>\n",
       "      <td>NaN</td>\n",
       "      <td>15602</td>\n",
       "      <td>tt0113228</td>\n",
       "      <td>en</td>\n",
       "      <td>Grumpier Old Men</td>\n",
       "      <td>A family wedding reignites the ancient feud be...</td>\n",
       "      <td>...</td>\n",
       "      <td>1995-12-22</td>\n",
       "      <td>0.0</td>\n",
       "      <td>101.0</td>\n",
       "      <td>[{'iso_639_1': 'en', 'name': 'English'}]</td>\n",
       "      <td>Released</td>\n",
       "      <td>Still Yelling. Still Fighting. Still Ready for...</td>\n",
       "      <td>Grumpier Old Men</td>\n",
       "      <td>False</td>\n",
       "      <td>6.5</td>\n",
       "      <td>92.0</td>\n",
       "    </tr>\n",
       "    <tr>\n",
       "      <td>3</td>\n",
       "      <td>FALSE</td>\n",
       "      <td>NaN</td>\n",
       "      <td>16000000</td>\n",
       "      <td>[{'id': 35, 'name': 'Comedy'}, {'id': 18, 'nam...</td>\n",
       "      <td>NaN</td>\n",
       "      <td>31357</td>\n",
       "      <td>tt0114885</td>\n",
       "      <td>en</td>\n",
       "      <td>Waiting to Exhale</td>\n",
       "      <td>Cheated on, mistreated and stepped on, the wom...</td>\n",
       "      <td>...</td>\n",
       "      <td>1995-12-22</td>\n",
       "      <td>81452156.0</td>\n",
       "      <td>127.0</td>\n",
       "      <td>[{'iso_639_1': 'en', 'name': 'English'}]</td>\n",
       "      <td>Released</td>\n",
       "      <td>Friends are the people who let you be yourself...</td>\n",
       "      <td>Waiting to Exhale</td>\n",
       "      <td>False</td>\n",
       "      <td>6.1</td>\n",
       "      <td>34.0</td>\n",
       "    </tr>\n",
       "    <tr>\n",
       "      <td>4</td>\n",
       "      <td>FALSE</td>\n",
       "      <td>{'id': 96871, 'name': 'Father of the Bride Col...</td>\n",
       "      <td>0</td>\n",
       "      <td>[{'id': 35, 'name': 'Comedy'}]</td>\n",
       "      <td>NaN</td>\n",
       "      <td>11862</td>\n",
       "      <td>tt0113041</td>\n",
       "      <td>en</td>\n",
       "      <td>Father of the Bride Part II</td>\n",
       "      <td>Just when George Banks has recovered from his ...</td>\n",
       "      <td>...</td>\n",
       "      <td>1995-02-10</td>\n",
       "      <td>76578911.0</td>\n",
       "      <td>106.0</td>\n",
       "      <td>[{'iso_639_1': 'en', 'name': 'English'}]</td>\n",
       "      <td>Released</td>\n",
       "      <td>Just When His World Is Back To Normal... He's ...</td>\n",
       "      <td>Father of the Bride Part II</td>\n",
       "      <td>False</td>\n",
       "      <td>5.7</td>\n",
       "      <td>173.0</td>\n",
       "    </tr>\n",
       "  </tbody>\n",
       "</table>\n",
       "<p>5 rows × 24 columns</p>\n",
       "</div>"
      ],
      "text/plain": [
       "   adult                              belongs_to_collection    budget  \\\n",
       "0  FALSE  {'id': 10194, 'name': 'Toy Story Collection', ...  30000000   \n",
       "1  FALSE                                                NaN  65000000   \n",
       "2  FALSE  {'id': 119050, 'name': 'Grumpy Old Men Collect...         0   \n",
       "3  FALSE                                                NaN  16000000   \n",
       "4  FALSE  {'id': 96871, 'name': 'Father of the Bride Col...         0   \n",
       "\n",
       "                                              genres  \\\n",
       "0  [{'id': 16, 'name': 'Animation'}, {'id': 35, '...   \n",
       "1  [{'id': 12, 'name': 'Adventure'}, {'id': 14, '...   \n",
       "2  [{'id': 10749, 'name': 'Romance'}, {'id': 35, ...   \n",
       "3  [{'id': 35, 'name': 'Comedy'}, {'id': 18, 'nam...   \n",
       "4                     [{'id': 35, 'name': 'Comedy'}]   \n",
       "\n",
       "                               homepage     id    imdb_id original_language  \\\n",
       "0  http://toystory.disney.com/toy-story    862  tt0114709                en   \n",
       "1                                   NaN   8844  tt0113497                en   \n",
       "2                                   NaN  15602  tt0113228                en   \n",
       "3                                   NaN  31357  tt0114885                en   \n",
       "4                                   NaN  11862  tt0113041                en   \n",
       "\n",
       "                original_title  \\\n",
       "0                    Toy Story   \n",
       "1                      Jumanji   \n",
       "2             Grumpier Old Men   \n",
       "3            Waiting to Exhale   \n",
       "4  Father of the Bride Part II   \n",
       "\n",
       "                                            overview  ... release_date  \\\n",
       "0  Led by Woody, Andy's toys live happily in his ...  ...   1995-10-30   \n",
       "1  When siblings Judy and Peter discover an encha...  ...   1995-12-15   \n",
       "2  A family wedding reignites the ancient feud be...  ...   1995-12-22   \n",
       "3  Cheated on, mistreated and stepped on, the wom...  ...   1995-12-22   \n",
       "4  Just when George Banks has recovered from his ...  ...   1995-02-10   \n",
       "\n",
       "       revenue runtime                                   spoken_languages  \\\n",
       "0  373554033.0    81.0           [{'iso_639_1': 'en', 'name': 'English'}]   \n",
       "1  262797249.0   104.0  [{'iso_639_1': 'en', 'name': 'English'}, {'iso...   \n",
       "2          0.0   101.0           [{'iso_639_1': 'en', 'name': 'English'}]   \n",
       "3   81452156.0   127.0           [{'iso_639_1': 'en', 'name': 'English'}]   \n",
       "4   76578911.0   106.0           [{'iso_639_1': 'en', 'name': 'English'}]   \n",
       "\n",
       "     status                                            tagline  \\\n",
       "0  Released                                                NaN   \n",
       "1  Released          Roll the dice and unleash the excitement!   \n",
       "2  Released  Still Yelling. Still Fighting. Still Ready for...   \n",
       "3  Released  Friends are the people who let you be yourself...   \n",
       "4  Released  Just When His World Is Back To Normal... He's ...   \n",
       "\n",
       "                         title  video vote_average vote_count  \n",
       "0                    Toy Story  False          7.7     5415.0  \n",
       "1                      Jumanji  False          6.9     2413.0  \n",
       "2             Grumpier Old Men  False          6.5       92.0  \n",
       "3            Waiting to Exhale  False          6.1       34.0  \n",
       "4  Father of the Bride Part II  False          5.7      173.0  \n",
       "\n",
       "[5 rows x 24 columns]"
      ]
     },
     "execution_count": 14,
     "metadata": {},
     "output_type": "execute_result"
    }
   ],
   "source": [
    "movies_kaggle.head()"
   ]
  },
  {
   "cell_type": "code",
   "execution_count": 15,
   "metadata": {},
   "outputs": [],
   "source": [
    "# Dropping columns that will not be used\n",
    "movies_kaggle=movies_kaggle.drop(columns=['belongs_to_collection','budget','homepage','id','imdb_id',\n",
    "                            'original_title', 'overview', 'runtime',\n",
    "                            'spoken_languages', 'status', 'tagline', 'video',\n",
    "                            'vote_average', 'vote_count'],axis=1);"
   ]
  },
  {
   "cell_type": "code",
   "execution_count": 16,
   "metadata": {},
   "outputs": [],
   "source": [
    "# Removing duplicates from the title column\n",
    "movies_kaggle=movies_kaggle.drop_duplicates(subset=\"title\",keep=False)"
   ]
  },
  {
   "cell_type": "code",
   "execution_count": 17,
   "metadata": {},
   "outputs": [],
   "source": [
    "#Getting last 4 numbers of year\n",
    "for i in range(len(movies_kaggle)):\n",
    "    if (pd.notnull(movies_kaggle.iloc[i,7])):\n",
    "        movies_kaggle.iloc[i,7]=movies_kaggle.iloc[i,7][0:4] "
   ]
  },
  {
   "cell_type": "code",
   "execution_count": 18,
   "metadata": {},
   "outputs": [],
   "source": [
    "#Joining the two datasets\n",
    "movies_ratings=pd.merge(movies,movies_kaggle,left_on=['title','year'],right_on=['title','release_date'])"
   ]
  },
  {
   "cell_type": "code",
   "execution_count": 19,
   "metadata": {},
   "outputs": [
    {
     "data": {
      "text/plain": [
       "4293"
      ]
     },
     "execution_count": 19,
     "metadata": {},
     "output_type": "execute_result"
    }
   ],
   "source": [
    "len(movies_ratings)"
   ]
  },
  {
   "cell_type": "code",
   "execution_count": 20,
   "metadata": {},
   "outputs": [
    {
     "data": {
      "text/plain": [
       "Index(['title', 'year', 'duration', 'rating', 'description', 'director',\n",
       "       'actors', 'votes', 'budget', 'metascore', 'adult', 'genres',\n",
       "       'original_language', 'popularity', 'poster_path',\n",
       "       'production_companies', 'production_countries', 'release_date',\n",
       "       'revenue'],\n",
       "      dtype='object')"
      ]
     },
     "execution_count": 20,
     "metadata": {},
     "output_type": "execute_result"
    }
   ],
   "source": [
    "movies_ratings.columns"
   ]
  },
  {
   "cell_type": "code",
   "execution_count": 21,
   "metadata": {},
   "outputs": [],
   "source": [
    "movies_ratings=movies_ratings.drop(columns='release_date',axis=1)"
   ]
  },
  {
   "cell_type": "code",
   "execution_count": 22,
   "metadata": {},
   "outputs": [
    {
     "data": {
      "text/plain": [
       "title                     0\n",
       "year                      0\n",
       "duration                  0\n",
       "rating                    0\n",
       "description               0\n",
       "director                  2\n",
       "actors                    0\n",
       "votes                     0\n",
       "budget                  567\n",
       "metascore               571\n",
       "adult                     0\n",
       "genres                    0\n",
       "original_language         0\n",
       "popularity                0\n",
       "poster_path               1\n",
       "production_companies      0\n",
       "production_countries      0\n",
       "revenue                   0\n",
       "dtype: int64"
      ]
     },
     "execution_count": 22,
     "metadata": {},
     "output_type": "execute_result"
    }
   ],
   "source": [
    "#Checking for null values\n",
    "movies_ratings.isnull().sum()"
   ]
  },
  {
   "cell_type": "code",
   "execution_count": 23,
   "metadata": {},
   "outputs": [],
   "source": [
    "movies_ratings[\"duration\"] = movies_ratings[\"duration\"].astype(str).astype(float)\n",
    "movies_ratings[\"rating\"] = movies_ratings[\"rating\"].astype(str).astype(float)\n",
    "#movies_ratings[\"votes\"] = movies_ratings[\"votes\"].astype(str).astype(float)\n",
    "#movies_ratings[\"budget\"] = movies_ratings[\"budget\"].astype(str)\n",
    "movies_ratings[\"metascore\"] = movies_ratings[\"metascore\"].astype(str).astype(float)\n",
    "movies_ratings[\"popularity\"] = movies_ratings[\"popularity\"].astype(str).astype(float)\n",
    "movies_ratings[\"revenue\"] = movies_ratings[\"revenue\"].astype(str).astype(float)"
   ]
  },
  {
   "cell_type": "code",
   "execution_count": 24,
   "metadata": {},
   "outputs": [],
   "source": [
    "# Cleaning the budget column\n",
    "for i in range(len(movies_ratings)):\n",
    "    if (pd.notnull(movies_ratings.iloc[i,8])):\n",
    "     movies_ratings.iloc[i,8]=movies_ratings.iloc[i,8].strip('$').strip('M')"
   ]
  },
  {
   "cell_type": "code",
   "execution_count": 25,
   "metadata": {},
   "outputs": [],
   "source": [
    "movies_ratings[\"budget\"] = movies_ratings[\"budget\"].astype(str).astype(float)"
   ]
  },
  {
   "cell_type": "code",
   "execution_count": 26,
   "metadata": {},
   "outputs": [],
   "source": [
    "movies_ratings['budget']=movies_ratings['budget']*1000000"
   ]
  },
  {
   "cell_type": "code",
   "execution_count": 27,
   "metadata": {},
   "outputs": [],
   "source": [
    "movies_ratings[\"title\"] = movies_ratings[\"title\"].astype('str')\n",
    "movies_ratings[\"year\"] = movies_ratings[\"year\"].astype('str').astype('category')\n",
    "movies_ratings[\"director\"] = movies_ratings[\"director\"].astype('str').astype('category')\n",
    "movies_ratings[\"adult\"] = movies_ratings[\"adult\"].astype('str').astype('category')\n",
    "movies_ratings[\"original_language\"] = movies_ratings[\"original_language\"].astype('str').astype('category')"
   ]
  },
  {
   "cell_type": "code",
   "execution_count": 28,
   "metadata": {},
   "outputs": [],
   "source": [
    "# Dropping null values\n",
    "movies_ratings=movies_ratings.dropna(how='any',axis=0) "
   ]
  },
  {
   "cell_type": "markdown",
   "metadata": {},
   "source": [
    "### Exploratory Data Analysis"
   ]
  },
  {
   "cell_type": "code",
   "execution_count": 29,
   "metadata": {},
   "outputs": [
    {
     "data": {
      "text/html": [
       "<div>\n",
       "<style scoped>\n",
       "    .dataframe tbody tr th:only-of-type {\n",
       "        vertical-align: middle;\n",
       "    }\n",
       "\n",
       "    .dataframe tbody tr th {\n",
       "        vertical-align: top;\n",
       "    }\n",
       "\n",
       "    .dataframe thead th {\n",
       "        text-align: right;\n",
       "    }\n",
       "</style>\n",
       "<table border=\"1\" class=\"dataframe\">\n",
       "  <thead>\n",
       "    <tr style=\"text-align: right;\">\n",
       "      <th></th>\n",
       "      <th>duration</th>\n",
       "      <th>rating</th>\n",
       "      <th>budget</th>\n",
       "      <th>metascore</th>\n",
       "      <th>popularity</th>\n",
       "      <th>revenue</th>\n",
       "    </tr>\n",
       "  </thead>\n",
       "  <tbody>\n",
       "    <tr>\n",
       "      <td>count</td>\n",
       "      <td>3469.000000</td>\n",
       "      <td>3469.000000</td>\n",
       "      <td>3.469000e+03</td>\n",
       "      <td>3469.000000</td>\n",
       "      <td>3469.000000</td>\n",
       "      <td>3.469000e+03</td>\n",
       "    </tr>\n",
       "    <tr>\n",
       "      <td>mean</td>\n",
       "      <td>110.510233</td>\n",
       "      <td>6.675036</td>\n",
       "      <td>5.330610e+07</td>\n",
       "      <td>57.652061</td>\n",
       "      <td>11.380052</td>\n",
       "      <td>1.071770e+08</td>\n",
       "    </tr>\n",
       "    <tr>\n",
       "      <td>std</td>\n",
       "      <td>20.135719</td>\n",
       "      <td>0.938826</td>\n",
       "      <td>6.812151e+07</td>\n",
       "      <td>18.192447</td>\n",
       "      <td>14.702833</td>\n",
       "      <td>1.781178e+08</td>\n",
       "    </tr>\n",
       "    <tr>\n",
       "      <td>min</td>\n",
       "      <td>63.000000</td>\n",
       "      <td>1.900000</td>\n",
       "      <td>0.000000e+00</td>\n",
       "      <td>1.000000</td>\n",
       "      <td>0.090273</td>\n",
       "      <td>0.000000e+00</td>\n",
       "    </tr>\n",
       "    <tr>\n",
       "      <td>25%</td>\n",
       "      <td>96.000000</td>\n",
       "      <td>6.100000</td>\n",
       "      <td>1.006000e+07</td>\n",
       "      <td>45.000000</td>\n",
       "      <td>7.041967</td>\n",
       "      <td>7.500000e+06</td>\n",
       "    </tr>\n",
       "    <tr>\n",
       "      <td>50%</td>\n",
       "      <td>107.000000</td>\n",
       "      <td>6.700000</td>\n",
       "      <td>3.177000e+07</td>\n",
       "      <td>58.000000</td>\n",
       "      <td>9.475693</td>\n",
       "      <td>4.210511e+07</td>\n",
       "    </tr>\n",
       "    <tr>\n",
       "      <td>75%</td>\n",
       "      <td>120.000000</td>\n",
       "      <td>7.300000</td>\n",
       "      <td>6.924000e+07</td>\n",
       "      <td>71.000000</td>\n",
       "      <td>12.608530</td>\n",
       "      <td>1.262169e+08</td>\n",
       "    </tr>\n",
       "    <tr>\n",
       "      <td>max</td>\n",
       "      <td>366.000000</td>\n",
       "      <td>9.300000</td>\n",
       "      <td>7.605100e+08</td>\n",
       "      <td>100.000000</td>\n",
       "      <td>547.488298</td>\n",
       "      <td>2.787965e+09</td>\n",
       "    </tr>\n",
       "  </tbody>\n",
       "</table>\n",
       "</div>"
      ],
      "text/plain": [
       "          duration       rating        budget    metascore   popularity  \\\n",
       "count  3469.000000  3469.000000  3.469000e+03  3469.000000  3469.000000   \n",
       "mean    110.510233     6.675036  5.330610e+07    57.652061    11.380052   \n",
       "std      20.135719     0.938826  6.812151e+07    18.192447    14.702833   \n",
       "min      63.000000     1.900000  0.000000e+00     1.000000     0.090273   \n",
       "25%      96.000000     6.100000  1.006000e+07    45.000000     7.041967   \n",
       "50%     107.000000     6.700000  3.177000e+07    58.000000     9.475693   \n",
       "75%     120.000000     7.300000  6.924000e+07    71.000000    12.608530   \n",
       "max     366.000000     9.300000  7.605100e+08   100.000000   547.488298   \n",
       "\n",
       "            revenue  \n",
       "count  3.469000e+03  \n",
       "mean   1.071770e+08  \n",
       "std    1.781178e+08  \n",
       "min    0.000000e+00  \n",
       "25%    7.500000e+06  \n",
       "50%    4.210511e+07  \n",
       "75%    1.262169e+08  \n",
       "max    2.787965e+09  "
      ]
     },
     "execution_count": 29,
     "metadata": {},
     "output_type": "execute_result"
    }
   ],
   "source": [
    "movies_ratings.describe()"
   ]
  },
  {
   "cell_type": "code",
   "execution_count": 30,
   "metadata": {},
   "outputs": [
    {
     "data": {
      "image/png": "[encoded data removed]",
      "text/plain": [
       "<Figure size 432x288 with 2 Axes>"
      ]
     },
     "metadata": {
      "needs_background": "light"
     },
     "output_type": "display_data"
    }
   ],
   "source": [
    "#Correlation matrix\n",
    "\n",
    "corr = movies_ratings.corr()\n",
    "ax = sns.heatmap(\n",
    "    corr, \n",
    "    vmin=-1, vmax=1, center=0,\n",
    "    cmap=sns.diverging_palette(20, 220, n=200),\n",
    "    square=True\n",
    ");\n",
    "ax.set_xticklabels(\n",
    "    ax.get_xticklabels(),\n",
    "    rotation=45,\n",
    "    horizontalalignment='right'\n",
    ");"
   ]
  },
  {
   "cell_type": "markdown",
   "metadata": {},
   "source": [
    "Boxplots of variables"
   ]
  },
  {
   "cell_type": "code",
   "execution_count": 31,
   "metadata": {},
   "outputs": [
    {
     "data": {
      "text/plain": [
       "<matplotlib.axes._subplots.AxesSubplot at 0x1484362d0>"
      ]
     },
     "execution_count": 31,
     "metadata": {},
     "output_type": "execute_result"
    },
    {
     "data": {
      "image/png": "[encoded data removed]",
      "text/plain": [
       "<Figure size 432x288 with 1 Axes>"
      ]
     },
     "metadata": {
      "needs_background": "light"
     },
     "output_type": "display_data"
    }
   ],
   "source": [
    "movies_ratings.boxplot(column=['duration'])"
   ]
  },
  {
   "cell_type": "code",
   "execution_count": 32,
   "metadata": {},
   "outputs": [
    {
     "data": {
      "text/plain": [
       "<matplotlib.axes._subplots.AxesSubplot at 0x1487c3f50>"
      ]
     },
     "execution_count": 32,
     "metadata": {},
     "output_type": "execute_result"
    },
    {
     "data": {
      "image/png": "[encoded data removed]",
      "text/plain": [
       "<Figure size 432x288 with 1 Axes>"
      ]
     },
     "metadata": {
      "needs_background": "light"
     },
     "output_type": "display_data"
    }
   ],
   "source": [
    "movies_ratings.boxplot(column=['rating'])"
   ]
  },
  {
   "cell_type": "code",
   "execution_count": 33,
   "metadata": {},
   "outputs": [
    {
     "data": {
      "text/plain": [
       "<matplotlib.axes._subplots.AxesSubplot at 0x148ad8c10>"
      ]
     },
     "execution_count": 33,
     "metadata": {},
     "output_type": "execute_result"
    },
    {
     "data": {
      "image/png": "[encoded data removed]",
      "text/plain": [
       "<Figure size 432x288 with 1 Axes>"
      ]
     },
     "metadata": {
      "needs_background": "light"
     },
     "output_type": "display_data"
    }
   ],
   "source": [
    "movies_ratings.boxplot(column=['budget'])"
   ]
  },
  {
   "cell_type": "code",
   "execution_count": 34,
   "metadata": {},
   "outputs": [
    {
     "data": {
      "text/plain": [
       "<matplotlib.axes._subplots.AxesSubplot at 0x149498f50>"
      ]
     },
     "execution_count": 34,
     "metadata": {},
     "output_type": "execute_result"
    },
    {
     "data": {
      "image/png": "[encoded data removed]",
      "text/plain": [
       "<Figure size 432x288 with 1 Axes>"
      ]
     },
     "metadata": {
      "needs_background": "light"
     },
     "output_type": "display_data"
    }
   ],
   "source": [
    "movies_ratings.boxplot(column=['metascore'])"
   ]
  },
  {
   "cell_type": "code",
   "execution_count": 35,
   "metadata": {},
   "outputs": [
    {
     "data": {
      "text/plain": [
       "<matplotlib.axes._subplots.AxesSubplot at 0x149674410>"
      ]
     },
     "execution_count": 35,
     "metadata": {},
     "output_type": "execute_result"
    },
    {
     "data": {
      "image/png": "[encoded data removed]",
      "text/plain": [
       "<Figure size 432x288 with 1 Axes>"
      ]
     },
     "metadata": {
      "needs_background": "light"
     },
     "output_type": "display_data"
    }
   ],
   "source": [
    "movies_ratings.boxplot(column=['popularity'])"
   ]
  },
  {
   "cell_type": "code",
   "execution_count": 36,
   "metadata": {},
   "outputs": [],
   "source": [
    "# We will remove the outlier popularity observation from the dataset\n",
    "movies_ratings = movies_ratings[movies_ratings.popularity < 300]"
   ]
  },
  {
   "cell_type": "code",
   "execution_count": 37,
   "metadata": {},
   "outputs": [
    {
     "data": {
      "text/plain": [
       "<matplotlib.axes._subplots.AxesSubplot at 0x149eefd50>"
      ]
     },
     "execution_count": 37,
     "metadata": {},
     "output_type": "execute_result"
    },
    {
     "data": {
      "image/png": "[encoded data removed]",
      "text/plain": [
       "<Figure size 432x288 with 1 Axes>"
      ]
     },
     "metadata": {
      "needs_background": "light"
     },
     "output_type": "display_data"
    }
   ],
   "source": [
    "movies_ratings.boxplot(column=['revenue'])"
   ]
  },
  {
   "cell_type": "markdown",
   "metadata": {},
   "source": [
    "Plots"
   ]
  },
  {
   "cell_type": "code",
   "execution_count": 38,
   "metadata": {},
   "outputs": [
    {
     "data": {
      "text/plain": [
       "<matplotlib.collections.PathCollection at 0x143b093d0>"
      ]
     },
     "execution_count": 38,
     "metadata": {},
     "output_type": "execute_result"
    },
    {
     "data": {
      "image/png": "[encoded data removed]",
      "text/plain": [
       "<Figure size 1080x360 with 1 Axes>"
      ]
     },
     "metadata": {
      "needs_background": "light"
     },
     "output_type": "display_data"
    }
   ],
   "source": [
    "#Ratings vs Metascore\n",
    "fig, ax=plt.subplots(1, figsize=(15,5))\n",
    "ax.scatter('rating','metascore',data=movies_ratings)"
   ]
  },
  {
   "cell_type": "code",
   "execution_count": 39,
   "metadata": {},
   "outputs": [
    {
     "data": {
      "text/plain": [
       "<matplotlib.collections.PathCollection at 0x149fba6d0>"
      ]
     },
     "execution_count": 39,
     "metadata": {},
     "output_type": "execute_result"
    },
    {
     "data": {
      "image/png": "[encoded data removed]",
      "text/plain": [
       "<Figure size 1080x360 with 1 Axes>"
      ]
     },
     "metadata": {
      "needs_background": "light"
     },
     "output_type": "display_data"
    }
   ],
   "source": [
    "#Revenue vs Budget\n",
    "fig, ax=plt.subplots(1, figsize=(15,5))\n",
    "ax.scatter('revenue','budget',data=movies_ratings)"
   ]
  },
  {
   "cell_type": "code",
   "execution_count": 40,
   "metadata": {},
   "outputs": [
    {
     "data": {
      "text/plain": [
       "Text(0.5, 1.0, 'Distribution of Ratings')"
      ]
     },
     "execution_count": 40,
     "metadata": {},
     "output_type": "execute_result"
    },
    {
     "data": {
      "image/png": "[encoded data removed]",
      "text/plain": [
       "<Figure size 432x288 with 1 Axes>"
      ]
     },
     "metadata": {
      "needs_background": "light"
     },
     "output_type": "display_data"
    }
   ],
   "source": [
    "#Distribution of Ratings\n",
    "sns.distplot(movies_ratings['rating']).set_title('Distribution of Ratings')"
   ]
  },
  {
   "cell_type": "code",
   "execution_count": 41,
   "metadata": {},
   "outputs": [
    {
     "data": {
      "text/plain": [
       "Text(0.5, 1.0, 'Distribution of metascore')"
      ]
     },
     "execution_count": 41,
     "metadata": {},
     "output_type": "execute_result"
    },
    {
     "data": {
      "image/png": "[encoded data removed]",
      "text/plain": [
       "<Figure size 432x288 with 1 Axes>"
      ]
     },
     "metadata": {
      "needs_background": "light"
     },
     "output_type": "display_data"
    }
   ],
   "source": [
    "#Distribution of Metascore\n",
    "sns.distplot(movies_ratings['metascore']).set_title('Distribution of metascore')"
   ]
  },
  {
   "cell_type": "code",
   "execution_count": 42,
   "metadata": {},
   "outputs": [
    {
     "data": {
      "text/plain": [
       "Text(0.5, 1.0, 'Distribution of Duration')"
      ]
     },
     "execution_count": 42,
     "metadata": {},
     "output_type": "execute_result"
    },
    {
     "data": {
      "image/png": "[encoded data removed]",
      "text/plain": [
       "<Figure size 432x288 with 1 Axes>"
      ]
     },
     "metadata": {
      "needs_background": "light"
     },
     "output_type": "display_data"
    }
   ],
   "source": [
    "#Distribution of Duration\n",
    "sns.distplot(movies_ratings['duration']).set_title('Distribution of Duration')"
   ]
  },
  {
   "cell_type": "code",
   "execution_count": 43,
   "metadata": {},
   "outputs": [
    {
     "data": {
      "text/plain": [
       "Text(0.5, 1.0, 'Distribution of budget')"
      ]
     },
     "execution_count": 43,
     "metadata": {},
     "output_type": "execute_result"
    },
    {
     "data": {
      "image/png": "[encoded data removed]",
      "text/plain": [
       "<Figure size 432x288 with 1 Axes>"
      ]
     },
     "metadata": {
      "needs_background": "light"
     },
     "output_type": "display_data"
    }
   ],
   "source": [
    "# Distribution of Budget\n",
    "sns.distplot(movies_ratings['budget']).set_title('Distribution of budget')"
   ]
  },
  {
   "cell_type": "code",
   "execution_count": 44,
   "metadata": {},
   "outputs": [
    {
     "data": {
      "text/plain": [
       "Text(0.5, 1.0, 'Distribution of revenue')"
      ]
     },
     "execution_count": 44,
     "metadata": {},
     "output_type": "execute_result"
    },
    {
     "data": {
      "image/png": "[encoded data removed]",
      "text/plain": [
       "<Figure size 432x288 with 1 Axes>"
      ]
     },
     "metadata": {
      "needs_background": "light"
     },
     "output_type": "display_data"
    }
   ],
   "source": [
    "# Distribution of Revenue\n",
    "sns.distplot(movies_ratings['revenue']).set_title('Distribution of revenue')"
   ]
  },
  {
   "cell_type": "code",
   "execution_count": 45,
   "metadata": {},
   "outputs": [
    {
     "data": {
      "text/plain": [
       "<matplotlib.collections.PathCollection at 0x14b6e7b50>"
      ]
     },
     "execution_count": 45,
     "metadata": {},
     "output_type": "execute_result"
    },
    {
     "data": {
      "image/png": "[encoded data removed]",
      "text/plain": [
       "<Figure size 1080x360 with 1 Axes>"
      ]
     },
     "metadata": {
      "needs_background": "light"
     },
     "output_type": "display_data"
    }
   ],
   "source": [
    "# Scatter plot of popularity and budget\n",
    "fig, ax=plt.subplots(1, figsize=(15,5))\n",
    "ax.scatter('popularity','budget',data=movies_ratings)"
   ]
  },
  {
   "cell_type": "code",
   "execution_count": 46,
   "metadata": {},
   "outputs": [
    {
     "data": {
      "text/plain": [
       "<matplotlib.collections.PathCollection at 0x14b759890>"
      ]
     },
     "execution_count": 46,
     "metadata": {},
     "output_type": "execute_result"
    },
    {
     "data": {
      "image/png": "[encoded data removed]",
      "text/plain": [
       "<Figure size 1080x360 with 1 Axes>"
      ]
     },
     "metadata": {
      "needs_background": "light"
     },
     "output_type": "display_data"
    }
   ],
   "source": [
    "# Scatter plot of popularity and revenue\n",
    "fig, ax=plt.subplots(1, figsize=(15,5))\n",
    "ax.scatter('popularity','revenue',data=movies_ratings)"
   ]
  },
  {
   "cell_type": "code",
   "execution_count": 47,
   "metadata": {},
   "outputs": [
    {
     "data": {
      "text/plain": [
       "<BarContainer object of 32 artists>"
      ]
     },
     "execution_count": 47,
     "metadata": {},
     "output_type": "execute_result"
    },
    {
     "data": {
      "image/png": "[encoded data removed]",
      "text/plain": [
       "<Figure size 1080x360 with 2 Axes>"
      ]
     },
     "metadata": {
      "needs_background": "light"
     },
     "output_type": "display_data"
    }
   ],
   "source": [
    "fig, ax = plt.subplots(1,2, figsize = (15,5))\n",
    "\n",
    "ax[0].barh('original_language','rating',data=movies_ratings.groupby('original_language',as_index=False).mean())\n",
    "ax[1].barh('original_language','metascore',data=movies_ratings.groupby('original_language',as_index=False).mean())"
   ]
  },
  {
   "cell_type": "code",
   "execution_count": 48,
   "metadata": {},
   "outputs": [
    {
     "data": {
      "text/html": [
       "<div>\n",
       "<style scoped>\n",
       "    .dataframe tbody tr th:only-of-type {\n",
       "        vertical-align: middle;\n",
       "    }\n",
       "\n",
       "    .dataframe tbody tr th {\n",
       "        vertical-align: top;\n",
       "    }\n",
       "\n",
       "    .dataframe thead th {\n",
       "        text-align: right;\n",
       "    }\n",
       "</style>\n",
       "<table border=\"1\" class=\"dataframe\">\n",
       "  <thead>\n",
       "    <tr style=\"text-align: right;\">\n",
       "      <th></th>\n",
       "      <th>year</th>\n",
       "      <th>duration</th>\n",
       "      <th>rating</th>\n",
       "      <th>budget</th>\n",
       "      <th>metascore</th>\n",
       "      <th>popularity</th>\n",
       "      <th>revenue</th>\n",
       "    </tr>\n",
       "  </thead>\n",
       "  <tbody>\n",
       "    <tr>\n",
       "      <td>0</td>\n",
       "      <td>1920</td>\n",
       "      <td>NaN</td>\n",
       "      <td>NaN</td>\n",
       "      <td>NaN</td>\n",
       "      <td>NaN</td>\n",
       "      <td>NaN</td>\n",
       "      <td>NaN</td>\n",
       "    </tr>\n",
       "    <tr>\n",
       "      <td>1</td>\n",
       "      <td>1922</td>\n",
       "      <td>NaN</td>\n",
       "      <td>NaN</td>\n",
       "      <td>NaN</td>\n",
       "      <td>NaN</td>\n",
       "      <td>NaN</td>\n",
       "      <td>NaN</td>\n",
       "    </tr>\n",
       "    <tr>\n",
       "      <td>2</td>\n",
       "      <td>1925</td>\n",
       "      <td>NaN</td>\n",
       "      <td>NaN</td>\n",
       "      <td>NaN</td>\n",
       "      <td>NaN</td>\n",
       "      <td>NaN</td>\n",
       "      <td>NaN</td>\n",
       "    </tr>\n",
       "    <tr>\n",
       "      <td>3</td>\n",
       "      <td>1928</td>\n",
       "      <td>NaN</td>\n",
       "      <td>NaN</td>\n",
       "      <td>NaN</td>\n",
       "      <td>NaN</td>\n",
       "      <td>NaN</td>\n",
       "      <td>NaN</td>\n",
       "    </tr>\n",
       "    <tr>\n",
       "      <td>4</td>\n",
       "      <td>1931</td>\n",
       "      <td>87.000000</td>\n",
       "      <td>8.500000</td>\n",
       "      <td>2.000000e+04</td>\n",
       "      <td>99.000000</td>\n",
       "      <td>10.891524</td>\n",
       "      <td>1.918100e+04</td>\n",
       "    </tr>\n",
       "    <tr>\n",
       "      <td>...</td>\n",
       "      <td>...</td>\n",
       "      <td>...</td>\n",
       "      <td>...</td>\n",
       "      <td>...</td>\n",
       "      <td>...</td>\n",
       "      <td>...</td>\n",
       "      <td>...</td>\n",
       "    </tr>\n",
       "    <tr>\n",
       "      <td>86</td>\n",
       "      <td>2014</td>\n",
       "      <td>110.244604</td>\n",
       "      <td>6.674101</td>\n",
       "      <td>5.687489e+07</td>\n",
       "      <td>56.474820</td>\n",
       "      <td>18.114108</td>\n",
       "      <td>1.456569e+08</td>\n",
       "    </tr>\n",
       "    <tr>\n",
       "      <td>87</td>\n",
       "      <td>2015</td>\n",
       "      <td>111.379845</td>\n",
       "      <td>6.519380</td>\n",
       "      <td>5.293550e+07</td>\n",
       "      <td>56.193798</td>\n",
       "      <td>13.534978</td>\n",
       "      <td>1.353585e+08</td>\n",
       "    </tr>\n",
       "    <tr>\n",
       "      <td>88</td>\n",
       "      <td>2016</td>\n",
       "      <td>110.047337</td>\n",
       "      <td>6.587574</td>\n",
       "      <td>5.240231e+07</td>\n",
       "      <td>58.579882</td>\n",
       "      <td>15.433255</td>\n",
       "      <td>1.341463e+08</td>\n",
       "    </tr>\n",
       "    <tr>\n",
       "      <td>89</td>\n",
       "      <td>2017</td>\n",
       "      <td>110.712121</td>\n",
       "      <td>6.389394</td>\n",
       "      <td>6.424136e+07</td>\n",
       "      <td>56.984848</td>\n",
       "      <td>31.455768</td>\n",
       "      <td>1.509032e+08</td>\n",
       "    </tr>\n",
       "    <tr>\n",
       "      <td>90</td>\n",
       "      <td>2018</td>\n",
       "      <td>NaN</td>\n",
       "      <td>NaN</td>\n",
       "      <td>NaN</td>\n",
       "      <td>NaN</td>\n",
       "      <td>NaN</td>\n",
       "      <td>NaN</td>\n",
       "    </tr>\n",
       "  </tbody>\n",
       "</table>\n",
       "<p>91 rows × 7 columns</p>\n",
       "</div>"
      ],
      "text/plain": [
       "    year    duration    rating        budget  metascore  popularity  \\\n",
       "0   1920         NaN       NaN           NaN        NaN         NaN   \n",
       "1   1922         NaN       NaN           NaN        NaN         NaN   \n",
       "2   1925         NaN       NaN           NaN        NaN         NaN   \n",
       "3   1928         NaN       NaN           NaN        NaN         NaN   \n",
       "4   1931   87.000000  8.500000  2.000000e+04  99.000000   10.891524   \n",
       "..   ...         ...       ...           ...        ...         ...   \n",
       "86  2014  110.244604  6.674101  5.687489e+07  56.474820   18.114108   \n",
       "87  2015  111.379845  6.519380  5.293550e+07  56.193798   13.534978   \n",
       "88  2016  110.047337  6.587574  5.240231e+07  58.579882   15.433255   \n",
       "89  2017  110.712121  6.389394  6.424136e+07  56.984848   31.455768   \n",
       "90  2018         NaN       NaN           NaN        NaN         NaN   \n",
       "\n",
       "         revenue  \n",
       "0            NaN  \n",
       "1            NaN  \n",
       "2            NaN  \n",
       "3            NaN  \n",
       "4   1.918100e+04  \n",
       "..           ...  \n",
       "86  1.456569e+08  \n",
       "87  1.353585e+08  \n",
       "88  1.341463e+08  \n",
       "89  1.509032e+08  \n",
       "90           NaN  \n",
       "\n",
       "[91 rows x 7 columns]"
      ]
     },
     "execution_count": 48,
     "metadata": {},
     "output_type": "execute_result"
    }
   ],
   "source": [
    "movies_ratings.groupby('year',as_index=False).mean()"
   ]
  },
  {
   "cell_type": "code",
   "execution_count": 49,
   "metadata": {},
   "outputs": [
    {
     "data": {
      "text/html": [
       "<div>\n",
       "<style scoped>\n",
       "    .dataframe tbody tr th:only-of-type {\n",
       "        vertical-align: middle;\n",
       "    }\n",
       "\n",
       "    .dataframe tbody tr th {\n",
       "        vertical-align: top;\n",
       "    }\n",
       "\n",
       "    .dataframe thead th {\n",
       "        text-align: right;\n",
       "    }\n",
       "</style>\n",
       "<table border=\"1\" class=\"dataframe\">\n",
       "  <thead>\n",
       "    <tr style=\"text-align: right;\">\n",
       "      <th></th>\n",
       "      <th>original_language</th>\n",
       "      <th>duration</th>\n",
       "      <th>rating</th>\n",
       "      <th>budget</th>\n",
       "      <th>metascore</th>\n",
       "      <th>popularity</th>\n",
       "      <th>revenue</th>\n",
       "    </tr>\n",
       "  </thead>\n",
       "  <tbody>\n",
       "    <tr>\n",
       "      <td>0</td>\n",
       "      <td>bn</td>\n",
       "      <td>NaN</td>\n",
       "      <td>NaN</td>\n",
       "      <td>NaN</td>\n",
       "      <td>NaN</td>\n",
       "      <td>NaN</td>\n",
       "      <td>NaN</td>\n",
       "    </tr>\n",
       "    <tr>\n",
       "      <td>1</td>\n",
       "      <td>cn</td>\n",
       "      <td>97.333333</td>\n",
       "      <td>7.633333</td>\n",
       "      <td>5.994444e+06</td>\n",
       "      <td>76.111111</td>\n",
       "      <td>7.772212</td>\n",
       "      <td>2.597656e+07</td>\n",
       "    </tr>\n",
       "    <tr>\n",
       "      <td>2</td>\n",
       "      <td>cs</td>\n",
       "      <td>NaN</td>\n",
       "      <td>NaN</td>\n",
       "      <td>NaN</td>\n",
       "      <td>NaN</td>\n",
       "      <td>NaN</td>\n",
       "      <td>NaN</td>\n",
       "    </tr>\n",
       "    <tr>\n",
       "      <td>3</td>\n",
       "      <td>da</td>\n",
       "      <td>122.545455</td>\n",
       "      <td>7.172727</td>\n",
       "      <td>8.481818e+06</td>\n",
       "      <td>65.000000</td>\n",
       "      <td>8.189487</td>\n",
       "      <td>2.408956e+07</td>\n",
       "    </tr>\n",
       "    <tr>\n",
       "      <td>4</td>\n",
       "      <td>de</td>\n",
       "      <td>134.777778</td>\n",
       "      <td>7.677778</td>\n",
       "      <td>4.945556e+06</td>\n",
       "      <td>81.333333</td>\n",
       "      <td>7.484911</td>\n",
       "      <td>2.891298e+07</td>\n",
       "    </tr>\n",
       "    <tr>\n",
       "      <td>5</td>\n",
       "      <td>el</td>\n",
       "      <td>97.000000</td>\n",
       "      <td>7.300000</td>\n",
       "      <td>1.100000e+05</td>\n",
       "      <td>73.000000</td>\n",
       "      <td>17.713581</td>\n",
       "      <td>1.101970e+05</td>\n",
       "    </tr>\n",
       "    <tr>\n",
       "      <td>6</td>\n",
       "      <td>en</td>\n",
       "      <td>109.956615</td>\n",
       "      <td>6.626123</td>\n",
       "      <td>5.603991e+07</td>\n",
       "      <td>56.672777</td>\n",
       "      <td>11.338017</td>\n",
       "      <td>1.114427e+08</td>\n",
       "    </tr>\n",
       "    <tr>\n",
       "      <td>7</td>\n",
       "      <td>es</td>\n",
       "      <td>110.916667</td>\n",
       "      <td>7.541667</td>\n",
       "      <td>8.336667e+06</td>\n",
       "      <td>76.333333</td>\n",
       "      <td>9.393017</td>\n",
       "      <td>2.704313e+07</td>\n",
       "    </tr>\n",
       "    <tr>\n",
       "      <td>8</td>\n",
       "      <td>fa</td>\n",
       "      <td>123.500000</td>\n",
       "      <td>8.050000</td>\n",
       "      <td>4.750000e+06</td>\n",
       "      <td>90.000000</td>\n",
       "      <td>6.806685</td>\n",
       "      <td>1.201034e+06</td>\n",
       "    </tr>\n",
       "    <tr>\n",
       "      <td>9</td>\n",
       "      <td>fr</td>\n",
       "      <td>109.320755</td>\n",
       "      <td>7.309434</td>\n",
       "      <td>4.244717e+06</td>\n",
       "      <td>72.943396</td>\n",
       "      <td>7.970497</td>\n",
       "      <td>1.851962e+07</td>\n",
       "    </tr>\n",
       "    <tr>\n",
       "      <td>10</td>\n",
       "      <td>he</td>\n",
       "      <td>95.000000</td>\n",
       "      <td>6.000000</td>\n",
       "      <td>5.700000e+05</td>\n",
       "      <td>55.000000</td>\n",
       "      <td>3.212952</td>\n",
       "      <td>0.000000e+00</td>\n",
       "    </tr>\n",
       "    <tr>\n",
       "      <td>11</td>\n",
       "      <td>hi</td>\n",
       "      <td>167.857143</td>\n",
       "      <td>7.385714</td>\n",
       "      <td>3.977143e+06</td>\n",
       "      <td>61.571429</td>\n",
       "      <td>7.778508</td>\n",
       "      <td>2.852579e+07</td>\n",
       "    </tr>\n",
       "    <tr>\n",
       "      <td>12</td>\n",
       "      <td>hu</td>\n",
       "      <td>155.000000</td>\n",
       "      <td>7.800000</td>\n",
       "      <td>5.000000e+04</td>\n",
       "      <td>80.000000</td>\n",
       "      <td>4.340571</td>\n",
       "      <td>0.000000e+00</td>\n",
       "    </tr>\n",
       "    <tr>\n",
       "      <td>13</td>\n",
       "      <td>id</td>\n",
       "      <td>150.000000</td>\n",
       "      <td>8.000000</td>\n",
       "      <td>2.630000e+06</td>\n",
       "      <td>71.000000</td>\n",
       "      <td>8.434884</td>\n",
       "      <td>2.627209e+06</td>\n",
       "    </tr>\n",
       "    <tr>\n",
       "      <td>14</td>\n",
       "      <td>it</td>\n",
       "      <td>146.266667</td>\n",
       "      <td>7.940000</td>\n",
       "      <td>9.289333e+06</td>\n",
       "      <td>77.133333</td>\n",
       "      <td>13.056359</td>\n",
       "      <td>2.073470e+07</td>\n",
       "    </tr>\n",
       "    <tr>\n",
       "      <td>15</td>\n",
       "      <td>ja</td>\n",
       "      <td>117.913043</td>\n",
       "      <td>7.717391</td>\n",
       "      <td>3.227391e+06</td>\n",
       "      <td>76.739130</td>\n",
       "      <td>12.307736</td>\n",
       "      <td>7.164074e+07</td>\n",
       "    </tr>\n",
       "    <tr>\n",
       "      <td>16</td>\n",
       "      <td>kn</td>\n",
       "      <td>NaN</td>\n",
       "      <td>NaN</td>\n",
       "      <td>NaN</td>\n",
       "      <td>NaN</td>\n",
       "      <td>NaN</td>\n",
       "      <td>NaN</td>\n",
       "    </tr>\n",
       "    <tr>\n",
       "      <td>17</td>\n",
       "      <td>ko</td>\n",
       "      <td>123.700000</td>\n",
       "      <td>7.640000</td>\n",
       "      <td>1.240000e+06</td>\n",
       "      <td>74.300000</td>\n",
       "      <td>10.510317</td>\n",
       "      <td>9.932918e+06</td>\n",
       "    </tr>\n",
       "    <tr>\n",
       "      <td>18</td>\n",
       "      <td>ml</td>\n",
       "      <td>NaN</td>\n",
       "      <td>NaN</td>\n",
       "      <td>NaN</td>\n",
       "      <td>NaN</td>\n",
       "      <td>NaN</td>\n",
       "      <td>NaN</td>\n",
       "    </tr>\n",
       "    <tr>\n",
       "      <td>19</td>\n",
       "      <td>nl</td>\n",
       "      <td>128.000000</td>\n",
       "      <td>7.750000</td>\n",
       "      <td>2.290000e+06</td>\n",
       "      <td>70.500000</td>\n",
       "      <td>9.974068</td>\n",
       "      <td>1.583406e+07</td>\n",
       "    </tr>\n",
       "    <tr>\n",
       "      <td>20</td>\n",
       "      <td>pl</td>\n",
       "      <td>82.000000</td>\n",
       "      <td>7.400000</td>\n",
       "      <td>3.830000e+06</td>\n",
       "      <td>91.000000</td>\n",
       "      <td>8.651053</td>\n",
       "      <td>1.529836e+07</td>\n",
       "    </tr>\n",
       "    <tr>\n",
       "      <td>21</td>\n",
       "      <td>pt</td>\n",
       "      <td>126.500000</td>\n",
       "      <td>7.700000</td>\n",
       "      <td>1.614000e+07</td>\n",
       "      <td>67.000000</td>\n",
       "      <td>9.983153</td>\n",
       "      <td>2.190765e+07</td>\n",
       "    </tr>\n",
       "    <tr>\n",
       "      <td>22</td>\n",
       "      <td>ro</td>\n",
       "      <td>113.000000</td>\n",
       "      <td>7.900000</td>\n",
       "      <td>1.190000e+06</td>\n",
       "      <td>97.000000</td>\n",
       "      <td>9.990406</td>\n",
       "      <td>1.185783e+06</td>\n",
       "    </tr>\n",
       "    <tr>\n",
       "      <td>23</td>\n",
       "      <td>ru</td>\n",
       "      <td>126.500000</td>\n",
       "      <td>7.400000</td>\n",
       "      <td>3.135000e+06</td>\n",
       "      <td>80.000000</td>\n",
       "      <td>4.176126</td>\n",
       "      <td>1.326376e+07</td>\n",
       "    </tr>\n",
       "    <tr>\n",
       "      <td>24</td>\n",
       "      <td>sr</td>\n",
       "      <td>NaN</td>\n",
       "      <td>NaN</td>\n",
       "      <td>NaN</td>\n",
       "      <td>NaN</td>\n",
       "      <td>NaN</td>\n",
       "      <td>NaN</td>\n",
       "    </tr>\n",
       "    <tr>\n",
       "      <td>25</td>\n",
       "      <td>sv</td>\n",
       "      <td>119.000000</td>\n",
       "      <td>7.520000</td>\n",
       "      <td>3.984000e+06</td>\n",
       "      <td>70.200000</td>\n",
       "      <td>10.214139</td>\n",
       "      <td>2.493017e+07</td>\n",
       "    </tr>\n",
       "    <tr>\n",
       "      <td>26</td>\n",
       "      <td>ta</td>\n",
       "      <td>NaN</td>\n",
       "      <td>NaN</td>\n",
       "      <td>NaN</td>\n",
       "      <td>NaN</td>\n",
       "      <td>NaN</td>\n",
       "      <td>NaN</td>\n",
       "    </tr>\n",
       "    <tr>\n",
       "      <td>27</td>\n",
       "      <td>te</td>\n",
       "      <td>NaN</td>\n",
       "      <td>NaN</td>\n",
       "      <td>NaN</td>\n",
       "      <td>NaN</td>\n",
       "      <td>NaN</td>\n",
       "      <td>NaN</td>\n",
       "    </tr>\n",
       "    <tr>\n",
       "      <td>28</td>\n",
       "      <td>th</td>\n",
       "      <td>105.000000</td>\n",
       "      <td>7.200000</td>\n",
       "      <td>4.560000e+06</td>\n",
       "      <td>69.000000</td>\n",
       "      <td>7.899160</td>\n",
       "      <td>1.500000e+01</td>\n",
       "    </tr>\n",
       "    <tr>\n",
       "      <td>29</td>\n",
       "      <td>tr</td>\n",
       "      <td>103.000000</td>\n",
       "      <td>7.500000</td>\n",
       "      <td>4.450000e+05</td>\n",
       "      <td>78.000000</td>\n",
       "      <td>4.562288</td>\n",
       "      <td>1.250000e+05</td>\n",
       "    </tr>\n",
       "    <tr>\n",
       "      <td>30</td>\n",
       "      <td>xx</td>\n",
       "      <td>100.000000</td>\n",
       "      <td>7.300000</td>\n",
       "      <td>2.096000e+07</td>\n",
       "      <td>79.000000</td>\n",
       "      <td>8.341166</td>\n",
       "      <td>5.526056e+07</td>\n",
       "    </tr>\n",
       "    <tr>\n",
       "      <td>31</td>\n",
       "      <td>zh</td>\n",
       "      <td>134.444444</td>\n",
       "      <td>7.055556</td>\n",
       "      <td>1.710667e+07</td>\n",
       "      <td>72.444444</td>\n",
       "      <td>10.690488</td>\n",
       "      <td>9.925670e+07</td>\n",
       "    </tr>\n",
       "  </tbody>\n",
       "</table>\n",
       "</div>"
      ],
      "text/plain": [
       "   original_language    duration    rating        budget  metascore  \\\n",
       "0                 bn         NaN       NaN           NaN        NaN   \n",
       "1                 cn   97.333333  7.633333  5.994444e+06  76.111111   \n",
       "2                 cs         NaN       NaN           NaN        NaN   \n",
       "3                 da  122.545455  7.172727  8.481818e+06  65.000000   \n",
       "4                 de  134.777778  7.677778  4.945556e+06  81.333333   \n",
       "5                 el   97.000000  7.300000  1.100000e+05  73.000000   \n",
       "6                 en  109.956615  6.626123  5.603991e+07  56.672777   \n",
       "7                 es  110.916667  7.541667  8.336667e+06  76.333333   \n",
       "8                 fa  123.500000  8.050000  4.750000e+06  90.000000   \n",
       "9                 fr  109.320755  7.309434  4.244717e+06  72.943396   \n",
       "10                he   95.000000  6.000000  5.700000e+05  55.000000   \n",
       "11                hi  167.857143  7.385714  3.977143e+06  61.571429   \n",
       "12                hu  155.000000  7.800000  5.000000e+04  80.000000   \n",
       "13                id  150.000000  8.000000  2.630000e+06  71.000000   \n",
       "14                it  146.266667  7.940000  9.289333e+06  77.133333   \n",
       "15                ja  117.913043  7.717391  3.227391e+06  76.739130   \n",
       "16                kn         NaN       NaN           NaN        NaN   \n",
       "17                ko  123.700000  7.640000  1.240000e+06  74.300000   \n",
       "18                ml         NaN       NaN           NaN        NaN   \n",
       "19                nl  128.000000  7.750000  2.290000e+06  70.500000   \n",
       "20                pl   82.000000  7.400000  3.830000e+06  91.000000   \n",
       "21                pt  126.500000  7.700000  1.614000e+07  67.000000   \n",
       "22                ro  113.000000  7.900000  1.190000e+06  97.000000   \n",
       "23                ru  126.500000  7.400000  3.135000e+06  80.000000   \n",
       "24                sr         NaN       NaN           NaN        NaN   \n",
       "25                sv  119.000000  7.520000  3.984000e+06  70.200000   \n",
       "26                ta         NaN       NaN           NaN        NaN   \n",
       "27                te         NaN       NaN           NaN        NaN   \n",
       "28                th  105.000000  7.200000  4.560000e+06  69.000000   \n",
       "29                tr  103.000000  7.500000  4.450000e+05  78.000000   \n",
       "30                xx  100.000000  7.300000  2.096000e+07  79.000000   \n",
       "31                zh  134.444444  7.055556  1.710667e+07  72.444444   \n",
       "\n",
       "    popularity       revenue  \n",
       "0          NaN           NaN  \n",
       "1     7.772212  2.597656e+07  \n",
       "2          NaN           NaN  \n",
       "3     8.189487  2.408956e+07  \n",
       "4     7.484911  2.891298e+07  \n",
       "5    17.713581  1.101970e+05  \n",
       "6    11.338017  1.114427e+08  \n",
       "7     9.393017  2.704313e+07  \n",
       "8     6.806685  1.201034e+06  \n",
       "9     7.970497  1.851962e+07  \n",
       "10    3.212952  0.000000e+00  \n",
       "11    7.778508  2.852579e+07  \n",
       "12    4.340571  0.000000e+00  \n",
       "13    8.434884  2.627209e+06  \n",
       "14   13.056359  2.073470e+07  \n",
       "15   12.307736  7.164074e+07  \n",
       "16         NaN           NaN  \n",
       "17   10.510317  9.932918e+06  \n",
       "18         NaN           NaN  \n",
       "19    9.974068  1.583406e+07  \n",
       "20    8.651053  1.529836e+07  \n",
       "21    9.983153  2.190765e+07  \n",
       "22    9.990406  1.185783e+06  \n",
       "23    4.176126  1.326376e+07  \n",
       "24         NaN           NaN  \n",
       "25   10.214139  2.493017e+07  \n",
       "26         NaN           NaN  \n",
       "27         NaN           NaN  \n",
       "28    7.899160  1.500000e+01  \n",
       "29    4.562288  1.250000e+05  \n",
       "30    8.341166  5.526056e+07  \n",
       "31   10.690488  9.925670e+07  "
      ]
     },
     "execution_count": 49,
     "metadata": {},
     "output_type": "execute_result"
    }
   ],
   "source": [
    "movies_ratings.groupby('original_language',as_index=False).mean()"
   ]
  },
  {
   "cell_type": "markdown",
   "metadata": {},
   "source": [
    "We observe high positive correlation between the following variables:\n",
    "- rating and duration\n",
    "- metascore and rating\n",
    "- budget and revenue\n",
    "- revenue and popularity"
   ]
  },
  {
   "cell_type": "markdown",
   "metadata": {},
   "source": [
    "### Modeling"
   ]
  },
  {
   "cell_type": "code",
   "execution_count": 50,
   "metadata": {},
   "outputs": [],
   "source": [
    "# Encoding year and original_language\n",
    "c = movies_ratings[['year','original_language']]\n",
    "encoder = OneHotEncoder(sparse=False)\n",
    "encoder.fit(c)\n",
    "c2 = encoder.transform(c)\n",
    "df = pd.DataFrame(c2, columns=encoder.get_feature_names())\n",
    "df\n",
    "movies_ratings2 = pd.concat([movies_ratings.drop(['year','original_language'],axis=1),df],axis=1)"
   ]
  },
  {
   "cell_type": "code",
   "execution_count": 51,
   "metadata": {},
   "outputs": [],
   "source": [
    "# Dropping variables which will not be used\n",
    "movies_ratings=movies_ratings2.drop(['title','description','director','actors','votes','adult','genres','poster_path','production_companies','production_countries'], axis=1)"
   ]
  },
  {
   "cell_type": "code",
   "execution_count": 52,
   "metadata": {},
   "outputs": [],
   "source": [
    "# Dropping null values\n",
    "movies_ratings=movies_ratings.dropna(how='any',axis=0) "
   ]
  },
  {
   "cell_type": "code",
   "execution_count": 53,
   "metadata": {},
   "outputs": [],
   "source": [
    "#Splitting the data into training and testing (80-20%)\n",
    "y=movies_ratings.rating\n",
    "x=movies_ratings.drop('rating',axis=1)\n",
    "x_train,x_test,y_train,y_test=train_test_split(x,y,test_size=0.2,random_state=0)"
   ]
  },
  {
   "cell_type": "markdown",
   "metadata": {},
   "source": [
    "#### Linear Regression"
   ]
  },
  {
   "cell_type": "code",
   "execution_count": 54,
   "metadata": {},
   "outputs": [
    {
     "data": {
      "text/plain": [
       "LinearRegression(copy_X=True, fit_intercept=True, n_jobs=None, normalize=False)"
      ]
     },
     "execution_count": 54,
     "metadata": {},
     "output_type": "execute_result"
    }
   ],
   "source": [
    "regressor = LinearRegression()  \n",
    "regressor.fit(x_train, y_train) #training the algorithm"
   ]
  },
  {
   "cell_type": "code",
   "execution_count": 55,
   "metadata": {},
   "outputs": [
    {
     "data": {
      "text/html": [
       "<div>\n",
       "<style scoped>\n",
       "    .dataframe tbody tr th:only-of-type {\n",
       "        vertical-align: middle;\n",
       "    }\n",
       "\n",
       "    .dataframe tbody tr th {\n",
       "        vertical-align: top;\n",
       "    }\n",
       "\n",
       "    .dataframe thead th {\n",
       "        text-align: right;\n",
       "    }\n",
       "</style>\n",
       "<table border=\"1\" class=\"dataframe\">\n",
       "  <thead>\n",
       "    <tr style=\"text-align: right;\">\n",
       "      <th></th>\n",
       "      <th>Coefficient</th>\n",
       "    </tr>\n",
       "  </thead>\n",
       "  <tbody>\n",
       "    <tr>\n",
       "      <td>duration</td>\n",
       "      <td>9.312131e-03</td>\n",
       "    </tr>\n",
       "    <tr>\n",
       "      <td>budget</td>\n",
       "      <td>-6.917196e-11</td>\n",
       "    </tr>\n",
       "    <tr>\n",
       "      <td>metascore</td>\n",
       "      <td>3.398778e-02</td>\n",
       "    </tr>\n",
       "    <tr>\n",
       "      <td>popularity</td>\n",
       "      <td>2.808849e-03</td>\n",
       "    </tr>\n",
       "    <tr>\n",
       "      <td>revenue</td>\n",
       "      <td>-7.038328e-12</td>\n",
       "    </tr>\n",
       "    <tr>\n",
       "      <td>...</td>\n",
       "      <td>...</td>\n",
       "    </tr>\n",
       "    <tr>\n",
       "      <td>x1_sv</td>\n",
       "      <td>-8.356660e-02</td>\n",
       "    </tr>\n",
       "    <tr>\n",
       "      <td>x1_th</td>\n",
       "      <td>-2.312590e-01</td>\n",
       "    </tr>\n",
       "    <tr>\n",
       "      <td>x1_tr</td>\n",
       "      <td>3.787958e-01</td>\n",
       "    </tr>\n",
       "    <tr>\n",
       "      <td>x1_xx</td>\n",
       "      <td>-1.723882e-01</td>\n",
       "    </tr>\n",
       "    <tr>\n",
       "      <td>x1_zh</td>\n",
       "      <td>1.066570e-01</td>\n",
       "    </tr>\n",
       "  </tbody>\n",
       "</table>\n",
       "<p>109 rows × 1 columns</p>\n",
       "</div>"
      ],
      "text/plain": [
       "             Coefficient\n",
       "duration    9.312131e-03\n",
       "budget     -6.917196e-11\n",
       "metascore   3.398778e-02\n",
       "popularity  2.808849e-03\n",
       "revenue    -7.038328e-12\n",
       "...                  ...\n",
       "x1_sv      -8.356660e-02\n",
       "x1_th      -2.312590e-01\n",
       "x1_tr       3.787958e-01\n",
       "x1_xx      -1.723882e-01\n",
       "x1_zh       1.066570e-01\n",
       "\n",
       "[109 rows x 1 columns]"
      ]
     },
     "execution_count": 55,
     "metadata": {},
     "output_type": "execute_result"
    }
   ],
   "source": [
    "#Coefficients\n",
    "coeff_df = pd.DataFrame(regressor.coef_, x.columns, columns=['Coefficient'])  \n",
    "coeff_df"
   ]
  },
  {
   "cell_type": "code",
   "execution_count": 56,
   "metadata": {},
   "outputs": [],
   "source": [
    "# Prediction\n",
    "y_pred = regressor.predict(x_test)"
   ]
  },
  {
   "cell_type": "code",
   "execution_count": 57,
   "metadata": {},
   "outputs": [
    {
     "data": {
      "text/html": [
       "<div>\n",
       "<style scoped>\n",
       "    .dataframe tbody tr th:only-of-type {\n",
       "        vertical-align: middle;\n",
       "    }\n",
       "\n",
       "    .dataframe tbody tr th {\n",
       "        vertical-align: top;\n",
       "    }\n",
       "\n",
       "    .dataframe thead th {\n",
       "        text-align: right;\n",
       "    }\n",
       "</style>\n",
       "<table border=\"1\" class=\"dataframe\">\n",
       "  <thead>\n",
       "    <tr style=\"text-align: right;\">\n",
       "      <th></th>\n",
       "      <th>Actual</th>\n",
       "      <th>Predicted</th>\n",
       "    </tr>\n",
       "  </thead>\n",
       "  <tbody>\n",
       "    <tr>\n",
       "      <td>742</td>\n",
       "      <td>7.1</td>\n",
       "      <td>6.906515</td>\n",
       "    </tr>\n",
       "    <tr>\n",
       "      <td>2835</td>\n",
       "      <td>8.0</td>\n",
       "      <td>7.245835</td>\n",
       "    </tr>\n",
       "    <tr>\n",
       "      <td>428</td>\n",
       "      <td>7.5</td>\n",
       "      <td>7.284904</td>\n",
       "    </tr>\n",
       "    <tr>\n",
       "      <td>3007</td>\n",
       "      <td>6.7</td>\n",
       "      <td>5.827050</td>\n",
       "    </tr>\n",
       "    <tr>\n",
       "      <td>2984</td>\n",
       "      <td>6.3</td>\n",
       "      <td>6.540352</td>\n",
       "    </tr>\n",
       "    <tr>\n",
       "      <td>556</td>\n",
       "      <td>6.1</td>\n",
       "      <td>7.018600</td>\n",
       "    </tr>\n",
       "    <tr>\n",
       "      <td>2457</td>\n",
       "      <td>7.0</td>\n",
       "      <td>6.882821</td>\n",
       "    </tr>\n",
       "    <tr>\n",
       "      <td>225</td>\n",
       "      <td>7.7</td>\n",
       "      <td>7.199053</td>\n",
       "    </tr>\n",
       "    <tr>\n",
       "      <td>3442</td>\n",
       "      <td>6.1</td>\n",
       "      <td>6.450525</td>\n",
       "    </tr>\n",
       "    <tr>\n",
       "      <td>272</td>\n",
       "      <td>7.0</td>\n",
       "      <td>6.724702</td>\n",
       "    </tr>\n",
       "    <tr>\n",
       "      <td>1183</td>\n",
       "      <td>6.0</td>\n",
       "      <td>6.166829</td>\n",
       "    </tr>\n",
       "    <tr>\n",
       "      <td>802</td>\n",
       "      <td>6.2</td>\n",
       "      <td>6.483698</td>\n",
       "    </tr>\n",
       "    <tr>\n",
       "      <td>3130</td>\n",
       "      <td>7.5</td>\n",
       "      <td>7.280423</td>\n",
       "    </tr>\n",
       "    <tr>\n",
       "      <td>22</td>\n",
       "      <td>6.5</td>\n",
       "      <td>6.485305</td>\n",
       "    </tr>\n",
       "    <tr>\n",
       "      <td>3080</td>\n",
       "      <td>7.8</td>\n",
       "      <td>7.220325</td>\n",
       "    </tr>\n",
       "    <tr>\n",
       "      <td>324</td>\n",
       "      <td>7.5</td>\n",
       "      <td>7.093169</td>\n",
       "    </tr>\n",
       "    <tr>\n",
       "      <td>3076</td>\n",
       "      <td>6.7</td>\n",
       "      <td>6.178355</td>\n",
       "    </tr>\n",
       "    <tr>\n",
       "      <td>1813</td>\n",
       "      <td>6.6</td>\n",
       "      <td>7.130821</td>\n",
       "    </tr>\n",
       "    <tr>\n",
       "      <td>987</td>\n",
       "      <td>7.9</td>\n",
       "      <td>7.591818</td>\n",
       "    </tr>\n",
       "    <tr>\n",
       "      <td>1274</td>\n",
       "      <td>5.7</td>\n",
       "      <td>6.316831</td>\n",
       "    </tr>\n",
       "  </tbody>\n",
       "</table>\n",
       "</div>"
      ],
      "text/plain": [
       "      Actual  Predicted\n",
       "742      7.1   6.906515\n",
       "2835     8.0   7.245835\n",
       "428      7.5   7.284904\n",
       "3007     6.7   5.827050\n",
       "2984     6.3   6.540352\n",
       "556      6.1   7.018600\n",
       "2457     7.0   6.882821\n",
       "225      7.7   7.199053\n",
       "3442     6.1   6.450525\n",
       "272      7.0   6.724702\n",
       "1183     6.0   6.166829\n",
       "802      6.2   6.483698\n",
       "3130     7.5   7.280423\n",
       "22       6.5   6.485305\n",
       "3080     7.8   7.220325\n",
       "324      7.5   7.093169\n",
       "3076     6.7   6.178355\n",
       "1813     6.6   7.130821\n",
       "987      7.9   7.591818\n",
       "1274     5.7   6.316831"
      ]
     },
     "execution_count": 57,
     "metadata": {},
     "output_type": "execute_result"
    }
   ],
   "source": [
    "df = pd.DataFrame({'Actual': y_test, 'Predicted': y_pred})\n",
    "df1 = df.head(20)\n",
    "df1"
   ]
  },
  {
   "cell_type": "code",
   "execution_count": 58,
   "metadata": {},
   "outputs": [
    {
     "data": {
      "image/png": "[encoded data removed]",
      "text/plain": [
       "<Figure size 720x576 with 1 Axes>"
      ]
     },
     "metadata": {
      "needs_background": "light"
     },
     "output_type": "display_data"
    }
   ],
   "source": [
    "df1.plot(kind='bar',figsize=(10,8))\n",
    "plt.grid(which='major', linestyle='-', linewidth='0.5', color='green')\n",
    "plt.grid(which='minor', linestyle=':', linewidth='0.5', color='black')\n",
    "plt.show()"
   ]
  },
  {
   "cell_type": "code",
   "execution_count": 59,
   "metadata": {},
   "outputs": [
    {
     "name": "stdout",
     "output_type": "stream",
     "text": [
      "Mean Absolute Error: 0.4563618449603169\n",
      "Mean Squared Error: 0.34969546074293284\n",
      "Root Mean Squared Error: 0.5913505396488049\n"
     ]
    }
   ],
   "source": [
    "print('Mean Absolute Error:', metrics.mean_absolute_error(y_test, y_pred))  \n",
    "print('Mean Squared Error:', metrics.mean_squared_error(y_test, y_pred))  \n",
    "print('Root Mean Squared Error:', np.sqrt(metrics.mean_squared_error(y_test, y_pred)))"
   ]
  },
  {
   "cell_type": "markdown",
   "metadata": {},
   "source": [
    "#### Regression Tree"
   ]
  },
  {
   "cell_type": "code",
   "execution_count": 60,
   "metadata": {},
   "outputs": [],
   "source": [
    "regr_2 = DecisionTreeRegressor(max_depth=5)\n",
    "reg_tree=regr_2.fit(x_train, y_train)"
   ]
  },
  {
   "cell_type": "code",
   "execution_count": 61,
   "metadata": {},
   "outputs": [
    {
     "data": {
      "text/plain": [
       "array([6.82405063, 7.40833333, 7.0888412 , 5.9626087 , 6.51801802,\n",
       "       7.0888412 , 7.04086957, 7.40833333, 6.51801802, 6.916     ,\n",
       "       6.18023256, 5.9375    , 7.40833333, 6.828125  , 7.40833333,\n",
       "       7.04086957, 6.18023256, 7.0888412 , 8.01081081, 6.27514124,\n",
       "       5.9626087 , 8.00212766, 7.40833333, 6.82405063, 5.9626087 ,\n",
       "       6.18023256, 5.9626087 , 6.5275    , 8.03448276, 5.37692308,\n",
       "       5.9626087 , 8.01081081, 7.40833333, 7.40833333, 7.40833333,\n",
       "       5.37692308, 5.37692308, 7.7       , 3.0375    , 7.1972973 ,\n",
       "       7.04086957, 5.9626087 , 5.37692308, 7.0888412 , 6.5275    ,\n",
       "       5.37692308, 6.51801802, 5.9626087 , 6.27514124, 5.44035088,\n",
       "       7.52241379, 8.01081081, 6.27514124, 6.03333333, 7.0888412 ,\n",
       "       5.37692308, 7.61908397, 6.27514124, 5.37692308, 6.828125  ,\n",
       "       7.40833333, 7.40833333, 5.37692308, 6.18023256, 7.61908397,\n",
       "       7.1972973 , 7.38695652, 6.18023256, 7.04086957, 7.52241379,\n",
       "       6.27514124, 7.40833333, 7.40833333, 6.5275    , 4.95      ,\n",
       "       7.1972973 , 7.1972973 , 7.52241379, 6.82405063, 6.45098039,\n",
       "       5.37692308, 7.04086957, 5.9626087 , 6.45098039, 6.82405063,\n",
       "       7.7       , 6.45098039, 8.00212766, 7.1972973 , 5.44035088,\n",
       "       8.01081081, 7.0888412 , 5.9626087 , 6.18023256, 6.18023256,\n",
       "       7.04086957, 7.04086957, 7.0888412 , 6.27514124, 5.9626087 ,\n",
       "       7.61908397, 6.51801802, 6.828125  , 8.03448276, 7.7       ,\n",
       "       6.51801802, 8.03448276, 5.44035088, 7.52241379, 6.51801802,\n",
       "       5.9626087 , 6.82405063, 8.01081081, 7.1972973 , 6.51801802,\n",
       "       7.0888412 , 6.45098039, 8.00212766, 5.44035088, 6.828125  ,\n",
       "       6.18023256, 6.828125  , 6.51801802, 7.52241379, 7.04086957,\n",
       "       6.828125  , 6.82405063, 6.916     , 6.27514124, 7.40833333,\n",
       "       5.37692308, 6.916     , 7.0888412 , 7.40833333, 6.5275    ,\n",
       "       5.9626087 , 6.51801802, 6.82405063, 5.9626087 , 7.0888412 ,\n",
       "       7.40833333, 6.51801802, 6.18023256, 7.7       , 6.51801802,\n",
       "       6.18023256, 8.01081081, 5.37692308, 6.51801802, 7.38695652,\n",
       "       5.44035088, 6.5275    , 7.1972973 , 7.0888412 , 7.40833333,\n",
       "       7.04086957, 7.61908397, 7.04086957, 7.1972973 , 7.52241379,\n",
       "       6.82405063, 5.37692308, 6.18023256, 6.45098039, 6.45098039,\n",
       "       5.9626087 , 6.18023256, 6.18023256, 5.9626087 , 6.51801802,\n",
       "       5.9626087 , 6.45098039, 6.18023256, 6.27514124, 8.00212766,\n",
       "       6.18023256, 6.27514124, 6.45098039, 7.40833333, 5.9626087 ,\n",
       "       7.04086957, 6.27514124, 8.00212766, 6.18023256, 6.82405063,\n",
       "       7.61908397, 5.9626087 , 7.0888412 , 5.37692308, 7.04086957,\n",
       "       7.0888412 , 7.52241379, 7.40833333, 7.0888412 , 8.03448276,\n",
       "       4.15      , 7.04086957, 6.51801802, 8.03448276, 5.9626087 ,\n",
       "       6.27514124, 6.18023256, 6.18023256, 7.38695652, 6.27514124,\n",
       "       7.40833333, 7.61908397, 7.40833333, 6.51801802, 7.40833333,\n",
       "       7.0888412 , 7.1972973 , 7.04086957, 7.40833333, 7.40833333,\n",
       "       5.9626087 , 6.82405063, 6.828125  , 7.52241379, 6.51801802,\n",
       "       6.82405063, 6.82405063, 7.1972973 , 6.45098039, 7.61908397,\n",
       "       6.5275    , 8.01081081, 6.916     , 7.40833333, 6.45098039,\n",
       "       7.0888412 , 6.82405063, 7.1972973 , 6.18023256, 8.00212766,\n",
       "       7.40833333, 6.27514124, 7.40833333, 6.18023256, 6.51801802,\n",
       "       6.82405063, 6.27514124, 7.04086957, 7.04086957, 3.0375    ,\n",
       "       6.916     , 6.27514124, 6.5275    , 6.45098039, 7.61908397,\n",
       "       7.38695652, 6.51801802, 7.40833333, 8.01081081, 6.27514124,\n",
       "       6.18023256, 7.40833333, 6.18023256, 6.27514124, 6.27514124,\n",
       "       7.04086957, 6.27514124, 6.916     , 7.40833333, 7.1972973 ,\n",
       "       7.52241379, 7.38695652, 6.82405063, 6.45098039, 7.40833333,\n",
       "       6.82405063, 6.51801802, 7.40833333, 5.44035088, 5.9626087 ,\n",
       "       8.00212766, 6.82405063, 7.1972973 , 6.27514124, 7.40833333,\n",
       "       7.1972973 , 6.828125  , 8.00212766, 6.18023256, 6.27514124,\n",
       "       6.828125  , 7.52241379, 6.51801802, 5.9626087 , 7.1972973 ,\n",
       "       7.1972973 , 5.37692308, 7.0888412 , 6.18023256, 6.18023256,\n",
       "       6.51801802, 6.916     , 6.51801802, 5.9626087 , 7.1972973 ,\n",
       "       7.40833333, 6.916     , 7.0888412 , 7.40833333, 7.61908397,\n",
       "       5.9626087 , 6.51801802, 7.40833333, 7.38695652, 7.04086957,\n",
       "       6.27514124, 8.01081081, 7.04086957, 7.40833333, 5.9626087 ,\n",
       "       6.18023256, 6.82405063, 4.15      , 7.61908397, 7.0888412 ,\n",
       "       7.40833333, 6.5275    , 7.40833333, 7.0888412 , 7.61908397,\n",
       "       7.7       , 6.27514124, 6.828125  , 5.44035088, 7.04086957,\n",
       "       7.1972973 , 5.44035088, 6.18023256, 7.04086957, 7.40833333,\n",
       "       6.916     , 7.04086957, 7.04086957, 5.9626087 , 6.27514124,\n",
       "       6.51801802, 6.51801802, 6.82405063, 5.9626087 , 7.0888412 ,\n",
       "       6.82405063, 6.82405063, 7.7       , 6.18023256, 7.1972973 ,\n",
       "       6.51801802, 4.15      , 7.0888412 , 5.9626087 , 5.44035088,\n",
       "       5.44035088, 6.18023256, 7.40833333, 6.82405063, 7.40833333,\n",
       "       5.37692308, 6.27514124, 6.27514124, 7.61908397, 6.5275    ,\n",
       "       6.27514124, 6.18023256, 5.44035088, 6.828125  , 6.27514124,\n",
       "       7.52241379, 7.0888412 , 8.03448276, 6.18023256, 6.18023256,\n",
       "       7.40833333, 8.03448276, 6.828125  , 6.51801802, 7.40833333,\n",
       "       5.44035088, 7.0888412 , 7.0888412 , 6.828125  , 7.04086957,\n",
       "       5.44035088, 7.52241379, 7.40833333, 7.38695652, 6.18023256,\n",
       "       7.38695652, 7.40833333, 7.1972973 , 7.1972973 , 8.03448276,\n",
       "       7.40833333, 6.82405063, 7.61908397, 7.0888412 , 7.40833333,\n",
       "       7.40833333, 7.40833333, 6.82405063, 7.0888412 , 6.45098039,\n",
       "       7.0888412 , 5.9626087 , 5.37692308, 6.828125  , 5.37692308,\n",
       "       7.0888412 , 5.37692308, 7.04086957, 6.5275    , 7.0888412 ,\n",
       "       6.27514124, 7.61908397, 5.9626087 , 7.04086957, 6.27514124,\n",
       "       8.00212766, 6.18023256, 7.40833333, 6.82405063, 5.9626087 ,\n",
       "       7.1972973 , 7.40833333, 6.51801802, 7.7       , 6.27514124,\n",
       "       6.18023256, 6.27514124, 6.45098039, 6.18023256, 6.51801802,\n",
       "       5.44035088, 6.27514124, 7.1972973 , 7.61908397, 7.40833333,\n",
       "       7.0888412 , 7.04086957, 7.40833333, 7.61908397, 6.828125  ,\n",
       "       6.828125  , 5.9626087 , 7.04086957, 5.9626087 , 7.0888412 ,\n",
       "       7.0888412 , 6.82405063, 6.5275    , 6.828125  , 7.7       ,\n",
       "       8.00212766, 7.40833333, 7.1972973 , 6.27514124, 5.9626087 ,\n",
       "       5.9626087 , 7.0888412 , 7.0888412 , 6.45098039, 7.40833333,\n",
       "       7.0888412 , 6.51801802, 7.61908397, 7.1972973 , 5.9626087 ,\n",
       "       7.52241379, 7.40833333, 7.38695652, 7.04086957, 7.0888412 ,\n",
       "       7.40833333, 7.0888412 , 6.828125  , 6.916     , 6.51801802,\n",
       "       7.0888412 , 7.40833333, 6.82405063, 5.9626087 , 6.45098039,\n",
       "       6.27514124, 8.87142857, 5.9626087 , 6.51801802, 7.38695652,\n",
       "       6.45098039, 5.9626087 , 7.0888412 , 5.9626087 , 6.18023256,\n",
       "       7.61908397, 7.7       , 6.27514124, 6.18023256, 6.45098039,\n",
       "       5.37692308, 5.9626087 , 7.52241379, 5.37692308, 5.44035088,\n",
       "       6.18023256, 7.04086957, 6.5275    , 7.1972973 , 8.00212766,\n",
       "       6.18023256, 5.37692308, 7.04086957, 6.916     , 6.828125  ,\n",
       "       7.52241379, 6.45098039, 6.828125  , 6.27514124, 8.01081081,\n",
       "       5.9626087 , 7.04086957, 8.00212766, 6.5275    , 7.40833333,\n",
       "       7.0888412 , 7.40833333, 6.18023256, 7.0888412 , 7.40833333,\n",
       "       6.27514124, 8.01081081, 8.03448276, 7.61908397, 6.82405063,\n",
       "       6.916     , 5.37692308, 5.44035088, 7.61908397, 7.52241379,\n",
       "       7.1972973 , 6.828125  , 7.1972973 , 6.18023256, 7.0888412 ,\n",
       "       7.0888412 , 7.61908397, 8.87142857, 6.51801802, 6.828125  ,\n",
       "       5.9626087 , 7.61908397, 5.37692308, 6.45098039, 6.51801802,\n",
       "       6.51801802, 3.0375    , 7.61908397, 6.45098039, 6.18023256,\n",
       "       6.82405063, 7.52241379, 5.9626087 , 6.45098039, 6.27514124,\n",
       "       6.51801802, 6.82405063, 7.40833333, 7.1972973 , 6.82405063,\n",
       "       6.27514124, 5.9626087 , 7.0888412 , 7.0888412 , 7.52241379,\n",
       "       6.45098039, 6.828125  , 7.61908397, 6.18023256, 6.18023256,\n",
       "       6.27514124, 6.27514124, 7.0888412 , 8.00212766, 5.37692308,\n",
       "       6.18023256, 3.0375    , 5.9626087 ])"
      ]
     },
     "execution_count": 61,
     "metadata": {},
     "output_type": "execute_result"
    }
   ],
   "source": [
    "# Predict\n",
    "y_2 = regr_2.predict(x_test)\n",
    "y_2"
   ]
  },
  {
   "cell_type": "code",
   "execution_count": 62,
   "metadata": {},
   "outputs": [
    {
     "data": {
      "text/html": [
       "<div>\n",
       "<style scoped>\n",
       "    .dataframe tbody tr th:only-of-type {\n",
       "        vertical-align: middle;\n",
       "    }\n",
       "\n",
       "    .dataframe tbody tr th {\n",
       "        vertical-align: top;\n",
       "    }\n",
       "\n",
       "    .dataframe thead th {\n",
       "        text-align: right;\n",
       "    }\n",
       "</style>\n",
       "<table border=\"1\" class=\"dataframe\">\n",
       "  <thead>\n",
       "    <tr style=\"text-align: right;\">\n",
       "      <th></th>\n",
       "      <th>Actual</th>\n",
       "      <th>Predicted</th>\n",
       "    </tr>\n",
       "  </thead>\n",
       "  <tbody>\n",
       "    <tr>\n",
       "      <td>742</td>\n",
       "      <td>7.1</td>\n",
       "      <td>6.906515</td>\n",
       "    </tr>\n",
       "    <tr>\n",
       "      <td>2835</td>\n",
       "      <td>8.0</td>\n",
       "      <td>7.245835</td>\n",
       "    </tr>\n",
       "    <tr>\n",
       "      <td>428</td>\n",
       "      <td>7.5</td>\n",
       "      <td>7.284904</td>\n",
       "    </tr>\n",
       "    <tr>\n",
       "      <td>3007</td>\n",
       "      <td>6.7</td>\n",
       "      <td>5.827050</td>\n",
       "    </tr>\n",
       "    <tr>\n",
       "      <td>2984</td>\n",
       "      <td>6.3</td>\n",
       "      <td>6.540352</td>\n",
       "    </tr>\n",
       "    <tr>\n",
       "      <td>556</td>\n",
       "      <td>6.1</td>\n",
       "      <td>7.018600</td>\n",
       "    </tr>\n",
       "    <tr>\n",
       "      <td>2457</td>\n",
       "      <td>7.0</td>\n",
       "      <td>6.882821</td>\n",
       "    </tr>\n",
       "    <tr>\n",
       "      <td>225</td>\n",
       "      <td>7.7</td>\n",
       "      <td>7.199053</td>\n",
       "    </tr>\n",
       "    <tr>\n",
       "      <td>3442</td>\n",
       "      <td>6.1</td>\n",
       "      <td>6.450525</td>\n",
       "    </tr>\n",
       "    <tr>\n",
       "      <td>272</td>\n",
       "      <td>7.0</td>\n",
       "      <td>6.724702</td>\n",
       "    </tr>\n",
       "    <tr>\n",
       "      <td>1183</td>\n",
       "      <td>6.0</td>\n",
       "      <td>6.166829</td>\n",
       "    </tr>\n",
       "    <tr>\n",
       "      <td>802</td>\n",
       "      <td>6.2</td>\n",
       "      <td>6.483698</td>\n",
       "    </tr>\n",
       "    <tr>\n",
       "      <td>3130</td>\n",
       "      <td>7.5</td>\n",
       "      <td>7.280423</td>\n",
       "    </tr>\n",
       "    <tr>\n",
       "      <td>22</td>\n",
       "      <td>6.5</td>\n",
       "      <td>6.485305</td>\n",
       "    </tr>\n",
       "    <tr>\n",
       "      <td>3080</td>\n",
       "      <td>7.8</td>\n",
       "      <td>7.220325</td>\n",
       "    </tr>\n",
       "    <tr>\n",
       "      <td>324</td>\n",
       "      <td>7.5</td>\n",
       "      <td>7.093169</td>\n",
       "    </tr>\n",
       "    <tr>\n",
       "      <td>3076</td>\n",
       "      <td>6.7</td>\n",
       "      <td>6.178355</td>\n",
       "    </tr>\n",
       "    <tr>\n",
       "      <td>1813</td>\n",
       "      <td>6.6</td>\n",
       "      <td>7.130821</td>\n",
       "    </tr>\n",
       "    <tr>\n",
       "      <td>987</td>\n",
       "      <td>7.9</td>\n",
       "      <td>7.591818</td>\n",
       "    </tr>\n",
       "    <tr>\n",
       "      <td>1274</td>\n",
       "      <td>5.7</td>\n",
       "      <td>6.316831</td>\n",
       "    </tr>\n",
       "  </tbody>\n",
       "</table>\n",
       "</div>"
      ],
      "text/plain": [
       "      Actual  Predicted\n",
       "742      7.1   6.906515\n",
       "2835     8.0   7.245835\n",
       "428      7.5   7.284904\n",
       "3007     6.7   5.827050\n",
       "2984     6.3   6.540352\n",
       "556      6.1   7.018600\n",
       "2457     7.0   6.882821\n",
       "225      7.7   7.199053\n",
       "3442     6.1   6.450525\n",
       "272      7.0   6.724702\n",
       "1183     6.0   6.166829\n",
       "802      6.2   6.483698\n",
       "3130     7.5   7.280423\n",
       "22       6.5   6.485305\n",
       "3080     7.8   7.220325\n",
       "324      7.5   7.093169\n",
       "3076     6.7   6.178355\n",
       "1813     6.6   7.130821\n",
       "987      7.9   7.591818\n",
       "1274     5.7   6.316831"
      ]
     },
     "execution_count": 62,
     "metadata": {},
     "output_type": "execute_result"
    }
   ],
   "source": [
    "df2 = pd.DataFrame({'Actual': y_test, 'Predicted': y_2})\n",
    "df3 = df.head(20)\n",
    "df3"
   ]
  },
  {
   "cell_type": "code",
   "execution_count": 63,
   "metadata": {},
   "outputs": [
    {
     "name": "stdout",
     "output_type": "stream",
     "text": [
      "Mean Absolute Error: 0.46860234918194243\n",
      "Mean Squared Error: 0.37736984706832755\n",
      "Root Mean Squared Error: 0.6143043602875756\n"
     ]
    }
   ],
   "source": [
    "print('Mean Absolute Error:', metrics.mean_absolute_error(y_test, y_2))  \n",
    "print('Mean Squared Error:', metrics.mean_squared_error(y_test, y_2))  \n",
    "print('Root Mean Squared Error:', np.sqrt(metrics.mean_squared_error(y_test, y_2)))"
   ]
  },
  {
   "cell_type": "code",
   "execution_count": 64,
   "metadata": {},
   "outputs": [
    {
     "data": {
      "image/png": "[encoded data removed]",
      "text/plain": [
       "<Figure size 720x576 with 1 Axes>"
      ]
     },
     "metadata": {
      "needs_background": "light"
     },
     "output_type": "display_data"
    }
   ],
   "source": [
    "df3.plot(kind='bar',figsize=(10,8))\n",
    "plt.grid(which='major', linestyle='-', linewidth='0.5', color='green')\n",
    "plt.grid(which='minor', linestyle=':', linewidth='0.5', color='black')\n",
    "plt.show()"
   ]
  },
  {
   "cell_type": "markdown",
   "metadata": {},
   "source": [
    "#### Random Forest"
   ]
  },
  {
   "cell_type": "code",
   "execution_count": 65,
   "metadata": {},
   "outputs": [
    {
     "name": "stderr",
     "output_type": "stream",
     "text": [
      "/opt/anaconda3/lib/python3.7/site-packages/sklearn/ensemble/forest.py:245: FutureWarning: The default value of n_estimators will change from 10 in version 0.20 to 100 in 0.22.\n",
      "  \"10 in version 0.20 to 100 in 0.22.\", FutureWarning)\n"
     ]
    }
   ],
   "source": [
    "model = RandomForestRegressor()\n",
    "model.fit(x_train,y_train)\n",
    "\n",
    "# Get the mean absolute error on the validation data\n",
    "predicted_ratings = model.predict(x_test)"
   ]
  },
  {
   "cell_type": "code",
   "execution_count": 66,
   "metadata": {},
   "outputs": [
    {
     "data": {
      "text/html": [
       "<div>\n",
       "<style scoped>\n",
       "    .dataframe tbody tr th:only-of-type {\n",
       "        vertical-align: middle;\n",
       "    }\n",
       "\n",
       "    .dataframe tbody tr th {\n",
       "        vertical-align: top;\n",
       "    }\n",
       "\n",
       "    .dataframe thead th {\n",
       "        text-align: right;\n",
       "    }\n",
       "</style>\n",
       "<table border=\"1\" class=\"dataframe\">\n",
       "  <thead>\n",
       "    <tr style=\"text-align: right;\">\n",
       "      <th></th>\n",
       "      <th>Actual</th>\n",
       "      <th>Predicted</th>\n",
       "    </tr>\n",
       "  </thead>\n",
       "  <tbody>\n",
       "    <tr>\n",
       "      <td>742</td>\n",
       "      <td>7.1</td>\n",
       "      <td>6.906515</td>\n",
       "    </tr>\n",
       "    <tr>\n",
       "      <td>2835</td>\n",
       "      <td>8.0</td>\n",
       "      <td>7.245835</td>\n",
       "    </tr>\n",
       "    <tr>\n",
       "      <td>428</td>\n",
       "      <td>7.5</td>\n",
       "      <td>7.284904</td>\n",
       "    </tr>\n",
       "    <tr>\n",
       "      <td>3007</td>\n",
       "      <td>6.7</td>\n",
       "      <td>5.827050</td>\n",
       "    </tr>\n",
       "    <tr>\n",
       "      <td>2984</td>\n",
       "      <td>6.3</td>\n",
       "      <td>6.540352</td>\n",
       "    </tr>\n",
       "    <tr>\n",
       "      <td>556</td>\n",
       "      <td>6.1</td>\n",
       "      <td>7.018600</td>\n",
       "    </tr>\n",
       "    <tr>\n",
       "      <td>2457</td>\n",
       "      <td>7.0</td>\n",
       "      <td>6.882821</td>\n",
       "    </tr>\n",
       "    <tr>\n",
       "      <td>225</td>\n",
       "      <td>7.7</td>\n",
       "      <td>7.199053</td>\n",
       "    </tr>\n",
       "    <tr>\n",
       "      <td>3442</td>\n",
       "      <td>6.1</td>\n",
       "      <td>6.450525</td>\n",
       "    </tr>\n",
       "    <tr>\n",
       "      <td>272</td>\n",
       "      <td>7.0</td>\n",
       "      <td>6.724702</td>\n",
       "    </tr>\n",
       "    <tr>\n",
       "      <td>1183</td>\n",
       "      <td>6.0</td>\n",
       "      <td>6.166829</td>\n",
       "    </tr>\n",
       "    <tr>\n",
       "      <td>802</td>\n",
       "      <td>6.2</td>\n",
       "      <td>6.483698</td>\n",
       "    </tr>\n",
       "    <tr>\n",
       "      <td>3130</td>\n",
       "      <td>7.5</td>\n",
       "      <td>7.280423</td>\n",
       "    </tr>\n",
       "    <tr>\n",
       "      <td>22</td>\n",
       "      <td>6.5</td>\n",
       "      <td>6.485305</td>\n",
       "    </tr>\n",
       "    <tr>\n",
       "      <td>3080</td>\n",
       "      <td>7.8</td>\n",
       "      <td>7.220325</td>\n",
       "    </tr>\n",
       "    <tr>\n",
       "      <td>324</td>\n",
       "      <td>7.5</td>\n",
       "      <td>7.093169</td>\n",
       "    </tr>\n",
       "    <tr>\n",
       "      <td>3076</td>\n",
       "      <td>6.7</td>\n",
       "      <td>6.178355</td>\n",
       "    </tr>\n",
       "    <tr>\n",
       "      <td>1813</td>\n",
       "      <td>6.6</td>\n",
       "      <td>7.130821</td>\n",
       "    </tr>\n",
       "    <tr>\n",
       "      <td>987</td>\n",
       "      <td>7.9</td>\n",
       "      <td>7.591818</td>\n",
       "    </tr>\n",
       "    <tr>\n",
       "      <td>1274</td>\n",
       "      <td>5.7</td>\n",
       "      <td>6.316831</td>\n",
       "    </tr>\n",
       "  </tbody>\n",
       "</table>\n",
       "</div>"
      ],
      "text/plain": [
       "      Actual  Predicted\n",
       "742      7.1   6.906515\n",
       "2835     8.0   7.245835\n",
       "428      7.5   7.284904\n",
       "3007     6.7   5.827050\n",
       "2984     6.3   6.540352\n",
       "556      6.1   7.018600\n",
       "2457     7.0   6.882821\n",
       "225      7.7   7.199053\n",
       "3442     6.1   6.450525\n",
       "272      7.0   6.724702\n",
       "1183     6.0   6.166829\n",
       "802      6.2   6.483698\n",
       "3130     7.5   7.280423\n",
       "22       6.5   6.485305\n",
       "3080     7.8   7.220325\n",
       "324      7.5   7.093169\n",
       "3076     6.7   6.178355\n",
       "1813     6.6   7.130821\n",
       "987      7.9   7.591818\n",
       "1274     5.7   6.316831"
      ]
     },
     "execution_count": 66,
     "metadata": {},
     "output_type": "execute_result"
    }
   ],
   "source": [
    "df7 = pd.DataFrame({'Actual': y_test, 'Predicted': predicted_ratings})\n",
    "df8 = df3.head(20)\n",
    "df8"
   ]
  },
  {
   "cell_type": "code",
   "execution_count": 67,
   "metadata": {},
   "outputs": [
    {
     "name": "stdout",
     "output_type": "stream",
     "text": [
      "Mean Absolute Error: 0.4585714285714286\n",
      "Mean Squared Error: 0.3585425170068027\n",
      "Root Mean Squared Error: 0.5987841990290014\n"
     ]
    }
   ],
   "source": [
    "print('Mean Absolute Error:', metrics.mean_absolute_error(y_test, predicted_ratings))  \n",
    "print('Mean Squared Error:', metrics.mean_squared_error(y_test, predicted_ratings))  \n",
    "print('Root Mean Squared Error:', np.sqrt(metrics.mean_squared_error(y_test, predicted_ratings)))"
   ]
  },
  {
   "cell_type": "code",
   "execution_count": 68,
   "metadata": {},
   "outputs": [
    {
     "data": {
      "image/png": "[encoded data removed]",
      "text/plain": [
       "<Figure size 720x576 with 1 Axes>"
      ]
     },
     "metadata": {
      "needs_background": "light"
     },
     "output_type": "display_data"
    }
   ],
   "source": [
    "df8.plot(kind='bar',figsize=(10,8))\n",
    "plt.grid(which='major', linestyle='-', linewidth='0.5', color='green')\n",
    "plt.grid(which='minor', linestyle=':', linewidth='0.5', color='black')\n",
    "plt.show()"
   ]
  },
  {
   "cell_type": "markdown",
   "metadata": {},
   "source": [
    "#### Neural Network"
   ]
  },
  {
   "cell_type": "code",
   "execution_count": 79,
   "metadata": {},
   "outputs": [
    {
     "name": "stdout",
     "output_type": "stream",
     "text": [
      "Model: \"sequential_2\"\n",
      "_________________________________________________________________\n",
      "Layer (type)                 Output Shape              Param #   \n",
      "=================================================================\n",
      "dense_6 (Dense)              (None, 128)               14080     \n",
      "_________________________________________________________________\n",
      "dense_7 (Dense)              (None, 256)               33024     \n",
      "_________________________________________________________________\n",
      "dense_8 (Dense)              (None, 256)               65792     \n",
      "_________________________________________________________________\n",
      "dense_9 (Dense)              (None, 256)               65792     \n",
      "_________________________________________________________________\n",
      "dense_10 (Dense)             (None, 256)               65792     \n",
      "_________________________________________________________________\n",
      "dense_11 (Dense)             (None, 256)               65792     \n",
      "_________________________________________________________________\n",
      "dense_12 (Dense)             (None, 1)                 257       \n",
      "=================================================================\n",
      "Total params: 310,529\n",
      "Trainable params: 310,529\n",
      "Non-trainable params: 0\n",
      "_________________________________________________________________\n",
      "Epoch 1/200\n",
      "2352/2352 [==============================] - 0s 167us/step - loss: 29480.1627 - mean_absolute_error: 29480.1699\n",
      "Epoch 2/200\n",
      "2352/2352 [==============================] - 0s 84us/step - loss: 1923.4285 - mean_absolute_error: 1923.4290\n",
      "Epoch 3/200\n",
      "2352/2352 [==============================] - 0s 89us/step - loss: 1256.9716 - mean_absolute_error: 1256.9719\n",
      "Epoch 4/200\n",
      "2352/2352 [==============================] - 0s 87us/step - loss: 408.8366 - mean_absolute_error: 408.8365\n",
      "Epoch 5/200\n",
      "2352/2352 [==============================] - 0s 85us/step - loss: 375.4987 - mean_absolute_error: 375.4987\n",
      "Epoch 6/200\n",
      "2352/2352 [==============================] - 0s 79us/step - loss: 353.6390 - mean_absolute_error: 353.6390\n",
      "Epoch 7/200\n",
      "2352/2352 [==============================] - 0s 89us/step - loss: 357.2509 - mean_absolute_error: 357.2509\n",
      "Epoch 8/200\n",
      "2352/2352 [==============================] - 0s 95us/step - loss: 430.2792 - mean_absolute_error: 430.2792\n",
      "Epoch 9/200\n",
      "2352/2352 [==============================] - 0s 95us/step - loss: 166.4456 - mean_absolute_error: 166.4457\n",
      "Epoch 10/200\n",
      "2352/2352 [==============================] - 0s 90us/step - loss: 86.1802 - mean_absolute_error: 86.1802\n",
      "Epoch 11/200\n",
      "2352/2352 [==============================] - 0s 90us/step - loss: 74.5054 - mean_absolute_error: 74.5054\n",
      "Epoch 12/200\n",
      "2352/2352 [==============================] - 0s 91us/step - loss: 42.2647 - mean_absolute_error: 42.2647\n",
      "Epoch 13/200\n",
      "2352/2352 [==============================] - 0s 86us/step - loss: 53.4022 - mean_absolute_error: 53.4022\n",
      "Epoch 14/200\n",
      "2352/2352 [==============================] - 0s 85us/step - loss: 49.8454 - mean_absolute_error: 49.8454\n",
      "Epoch 15/200\n",
      "2352/2352 [==============================] - 0s 85us/step - loss: 47.9757 - mean_absolute_error: 47.9757\n",
      "Epoch 16/200\n",
      "2352/2352 [==============================] - 0s 93us/step - loss: 46.3727 - mean_absolute_error: 46.3727\n",
      "Epoch 17/200\n",
      "2352/2352 [==============================] - 0s 86us/step - loss: 31.5745 - mean_absolute_error: 31.5745\n",
      "Epoch 18/200\n",
      "2352/2352 [==============================] - 0s 85us/step - loss: 22.9397 - mean_absolute_error: 22.9397\n",
      "Epoch 19/200\n",
      "2352/2352 [==============================] - 0s 84us/step - loss: 24.3708 - mean_absolute_error: 24.3708\n",
      "Epoch 20/200\n",
      "2352/2352 [==============================] - 0s 82us/step - loss: 25.1660 - mean_absolute_error: 25.1660\n",
      "Epoch 21/200\n",
      "2352/2352 [==============================] - 0s 101us/step - loss: 19.7612 - mean_absolute_error: 19.7612\n",
      "Epoch 22/200\n",
      "2352/2352 [==============================] - 0s 103us/step - loss: 19.8944 - mean_absolute_error: 19.8944\n",
      "Epoch 23/200\n",
      "2352/2352 [==============================] - 0s 90us/step - loss: 25.3440 - mean_absolute_error: 25.3440\n",
      "Epoch 24/200\n",
      "2352/2352 [==============================] - 0s 75us/step - loss: 18.2901 - mean_absolute_error: 18.2901\n",
      "Epoch 25/200\n",
      "2352/2352 [==============================] - 0s 74us/step - loss: 15.1545 - mean_absolute_error: 15.1545\n",
      "Epoch 26/200\n",
      "2352/2352 [==============================] - 0s 83us/step - loss: 19.7125 - mean_absolute_error: 19.7125\n",
      "Epoch 27/200\n",
      "2352/2352 [==============================] - 0s 92us/step - loss: 39.4609 - mean_absolute_error: 39.4609\n",
      "Epoch 28/200\n",
      "2352/2352 [==============================] - 0s 84us/step - loss: 39.0990 - mean_absolute_error: 39.0990\n",
      "Epoch 29/200\n",
      "2352/2352 [==============================] - 0s 88us/step - loss: 15.8177 - mean_absolute_error: 15.8177\n",
      "Epoch 30/200\n",
      "2352/2352 [==============================] - 0s 90us/step - loss: 20.2866 - mean_absolute_error: 20.2866\n",
      "Epoch 31/200\n",
      "2352/2352 [==============================] - 0s 82us/step - loss: 7.1914 - mean_absolute_error: 7.1914\n",
      "Epoch 32/200\n",
      "2352/2352 [==============================] - 0s 79us/step - loss: 10.4342 - mean_absolute_error: 10.4342\n",
      "Epoch 33/200\n",
      "2352/2352 [==============================] - 0s 91us/step - loss: 17.5634 - mean_absolute_error: 17.5634\n",
      "Epoch 34/200\n",
      "2352/2352 [==============================] - 0s 88us/step - loss: 153.1327 - mean_absolute_error: 153.1327\n",
      "Epoch 35/200\n",
      "2352/2352 [==============================] - 0s 93us/step - loss: 81.3292 - mean_absolute_error: 81.3292\n",
      "Epoch 36/200\n",
      "2352/2352 [==============================] - 0s 79us/step - loss: 42.5039 - mean_absolute_error: 42.5039\n",
      "Epoch 37/200\n",
      "2352/2352 [==============================] - 0s 81us/step - loss: 11.1249 - mean_absolute_error: 11.1249\n",
      "Epoch 38/200\n",
      "2352/2352 [==============================] - 0s 83us/step - loss: 7.0766 - mean_absolute_error: 7.0766\n",
      "Epoch 39/200\n",
      "2352/2352 [==============================] - 0s 76us/step - loss: 3.5604 - mean_absolute_error: 3.5604\n",
      "Epoch 40/200\n",
      "2352/2352 [==============================] - 0s 84us/step - loss: 4.0584 - mean_absolute_error: 4.0584\n",
      "Epoch 41/200\n",
      "2352/2352 [==============================] - 0s 83us/step - loss: 3.5687 - mean_absolute_error: 3.5687\n",
      "Epoch 42/200\n",
      "2352/2352 [==============================] - 0s 85us/step - loss: 3.5096 - mean_absolute_error: 3.5096\n",
      "Epoch 43/200\n",
      "2352/2352 [==============================] - 0s 82us/step - loss: 11.4072 - mean_absolute_error: 11.4072\n",
      "Epoch 44/200\n",
      "2352/2352 [==============================] - 0s 90us/step - loss: 5.1232 - mean_absolute_error: 5.1232\n",
      "Epoch 45/200\n",
      "2352/2352 [==============================] - 0s 87us/step - loss: 4.4162 - mean_absolute_error: 4.4162\n",
      "Epoch 46/200\n",
      "2352/2352 [==============================] - 0s 85us/step - loss: 4.4029 - mean_absolute_error: 4.4029\n",
      "Epoch 47/200\n",
      "2352/2352 [==============================] - 0s 82us/step - loss: 2.4078 - mean_absolute_error: 2.4078: 0s - loss: 2.6629 - mean_absolute_error: 2.66\n",
      "Epoch 48/200\n",
      "2352/2352 [==============================] - 0s 86us/step - loss: 1.7010 - mean_absolute_error: 1.7010\n",
      "Epoch 49/200\n",
      "2352/2352 [==============================] - 0s 84us/step - loss: 5.3881 - mean_absolute_error: 5.3881\n",
      "Epoch 50/200\n",
      "2352/2352 [==============================] - 0s 93us/step - loss: 4.9456 - mean_absolute_error: 4.9456\n",
      "Epoch 51/200\n",
      "2352/2352 [==============================] - 0s 94us/step - loss: 1.6427 - mean_absolute_error: 1.6427\n",
      "Epoch 52/200\n",
      "2352/2352 [==============================] - 0s 84us/step - loss: 7.4735 - mean_absolute_error: 7.4735\n",
      "Epoch 53/200\n",
      "2352/2352 [==============================] - 0s 78us/step - loss: 1.4643 - mean_absolute_error: 1.4643\n",
      "Epoch 54/200\n",
      "2352/2352 [==============================] - 0s 80us/step - loss: 2331.6109 - mean_absolute_error: 2331.6108\n",
      "Epoch 55/200\n",
      "2352/2352 [==============================] - 0s 82us/step - loss: 855.4702 - mean_absolute_error: 855.4700\n",
      "Epoch 56/200\n",
      "2352/2352 [==============================] - 0s 87us/step - loss: 39.4105 - mean_absolute_error: 39.4105\n",
      "Epoch 57/200\n",
      "2352/2352 [==============================] - 0s 86us/step - loss: 15.3431 - mean_absolute_error: 15.3431\n",
      "Epoch 58/200\n",
      "2352/2352 [==============================] - 0s 81us/step - loss: 14.1784 - mean_absolute_error: 14.1784\n",
      "Epoch 59/200\n",
      "2352/2352 [==============================] - 0s 90us/step - loss: 8.2780 - mean_absolute_error: 8.2780\n",
      "Epoch 60/200\n",
      "2352/2352 [==============================] - 0s 95us/step - loss: 7.1368 - mean_absolute_error: 7.1368\n",
      "Epoch 61/200\n",
      "2352/2352 [==============================] - 0s 92us/step - loss: 4.9248 - mean_absolute_error: 4.9248\n",
      "Epoch 62/200\n",
      "2352/2352 [==============================] - 0s 101us/step - loss: 5.5517 - mean_absolute_error: 5.5517\n",
      "Epoch 63/200\n",
      "2352/2352 [==============================] - 0s 91us/step - loss: 6.5610 - mean_absolute_error: 6.5610\n",
      "Epoch 64/200\n",
      "2352/2352 [==============================] - 0s 88us/step - loss: 4.0056 - mean_absolute_error: 4.0056\n",
      "Epoch 65/200\n",
      "2352/2352 [==============================] - 0s 98us/step - loss: 3.9541 - mean_absolute_error: 3.9541\n",
      "Epoch 66/200\n",
      "2352/2352 [==============================] - 0s 87us/step - loss: 3.4020 - mean_absolute_error: 3.4020\n",
      "Epoch 67/200\n",
      "2352/2352 [==============================] - 0s 82us/step - loss: 2.9408 - mean_absolute_error: 2.9408\n",
      "Epoch 68/200\n",
      "2352/2352 [==============================] - 0s 95us/step - loss: 3.7613 - mean_absolute_error: 3.7613\n",
      "Epoch 69/200\n",
      "2352/2352 [==============================] - 0s 95us/step - loss: 4.2356 - mean_absolute_error: 4.2356\n",
      "Epoch 70/200\n",
      "2352/2352 [==============================] - 0s 90us/step - loss: 2.6591 - mean_absolute_error: 2.6591\n",
      "Epoch 71/200\n",
      "2352/2352 [==============================] - 0s 93us/step - loss: 2.0716 - mean_absolute_error: 2.0716\n",
      "Epoch 72/200\n",
      "2352/2352 [==============================] - 0s 85us/step - loss: 1.7356 - mean_absolute_error: 1.7356\n",
      "Epoch 73/200\n",
      "2352/2352 [==============================] - 0s 82us/step - loss: 1.9145 - mean_absolute_error: 1.9145\n",
      "Epoch 74/200\n",
      "2352/2352 [==============================] - 0s 85us/step - loss: 2.0651 - mean_absolute_error: 2.0651\n",
      "Epoch 75/200\n",
      "2352/2352 [==============================] - 0s 85us/step - loss: 2.7170 - mean_absolute_error: 2.7170\n",
      "Epoch 76/200\n",
      "2352/2352 [==============================] - 0s 92us/step - loss: 4.4221 - mean_absolute_error: 4.4221\n",
      "Epoch 77/200\n",
      "2352/2352 [==============================] - 0s 86us/step - loss: 1.7050 - mean_absolute_error: 1.7050\n",
      "Epoch 78/200\n",
      "2352/2352 [==============================] - 0s 90us/step - loss: 1.4301 - mean_absolute_error: 1.4301\n",
      "Epoch 79/200\n",
      "2352/2352 [==============================] - 0s 99us/step - loss: 1.7562 - mean_absolute_error: 1.7562\n",
      "Epoch 80/200\n",
      "2352/2352 [==============================] - 0s 92us/step - loss: 1.4039 - mean_absolute_error: 1.4039\n",
      "Epoch 81/200\n",
      "2352/2352 [==============================] - 0s 87us/step - loss: 1.4297 - mean_absolute_error: 1.4297\n",
      "Epoch 82/200\n",
      "2352/2352 [==============================] - 0s 88us/step - loss: 1.3348 - mean_absolute_error: 1.3348\n",
      "Epoch 83/200\n",
      "2352/2352 [==============================] - 0s 86us/step - loss: 1.9721 - mean_absolute_error: 1.9721\n",
      "Epoch 84/200\n",
      "2352/2352 [==============================] - 0s 87us/step - loss: 1.6739 - mean_absolute_error: 1.6739\n",
      "Epoch 85/200\n",
      "2352/2352 [==============================] - 0s 82us/step - loss: 1.8778 - mean_absolute_error: 1.8778\n",
      "Epoch 86/200\n",
      "2352/2352 [==============================] - 0s 97us/step - loss: 1.4520 - mean_absolute_error: 1.4520\n",
      "Epoch 87/200\n",
      "2352/2352 [==============================] - 0s 94us/step - loss: 1.1760 - mean_absolute_error: 1.1760\n",
      "Epoch 88/200\n",
      "2352/2352 [==============================] - 0s 87us/step - loss: 1.2070 - mean_absolute_error: 1.2070\n",
      "Epoch 89/200\n",
      "2352/2352 [==============================] - 0s 81us/step - loss: 1.2409 - mean_absolute_error: 1.2409\n",
      "Epoch 90/200\n",
      "2352/2352 [==============================] - 0s 80us/step - loss: 1.2739 - mean_absolute_error: 1.2739\n",
      "Epoch 91/200\n",
      "2352/2352 [==============================] - 0s 87us/step - loss: 1.1786 - mean_absolute_error: 1.1786\n",
      "Epoch 92/200\n",
      "2352/2352 [==============================] - 0s 90us/step - loss: 1.0340 - mean_absolute_error: 1.0340\n",
      "Epoch 93/200\n",
      "2352/2352 [==============================] - 0s 83us/step - loss: 1.2639 - mean_absolute_error: 1.2639\n",
      "Epoch 94/200\n",
      "2352/2352 [==============================] - 0s 86us/step - loss: 0.9861 - mean_absolute_error: 0.9861\n",
      "Epoch 95/200\n",
      "2352/2352 [==============================] - 0s 90us/step - loss: 0.9199 - mean_absolute_error: 0.9199\n",
      "Epoch 96/200\n",
      "2352/2352 [==============================] - 0s 90us/step - loss: 0.8469 - mean_absolute_error: 0.8469\n",
      "Epoch 97/200\n",
      "2352/2352 [==============================] - 0s 90us/step - loss: 1.1314 - mean_absolute_error: 1.1314\n",
      "Epoch 98/200\n",
      "2352/2352 [==============================] - 0s 84us/step - loss: 1.2197 - mean_absolute_error: 1.2197\n",
      "Epoch 99/200\n",
      "2352/2352 [==============================] - 0s 82us/step - loss: 1.1030 - mean_absolute_error: 1.1030\n",
      "Epoch 100/200\n",
      "2352/2352 [==============================] - 0s 87us/step - loss: 0.9904 - mean_absolute_error: 0.9904\n",
      "Epoch 101/200\n",
      "2352/2352 [==============================] - 0s 94us/step - loss: 2.3204 - mean_absolute_error: 2.3204\n",
      "Epoch 102/200\n",
      "2352/2352 [==============================] - 0s 92us/step - loss: 1.9453 - mean_absolute_error: 1.9453\n",
      "Epoch 103/200\n",
      "2352/2352 [==============================] - 0s 93us/step - loss: 1.4519 - mean_absolute_error: 1.4519\n",
      "Epoch 104/200\n",
      "2352/2352 [==============================] - 0s 86us/step - loss: 1.1622 - mean_absolute_error: 1.1622\n",
      "Epoch 105/200\n",
      "2352/2352 [==============================] - 0s 94us/step - loss: 1.0682 - mean_absolute_error: 1.0682\n",
      "Epoch 106/200\n",
      "2352/2352 [==============================] - 0s 87us/step - loss: 1.1384 - mean_absolute_error: 1.1384\n",
      "Epoch 107/200\n",
      "2352/2352 [==============================] - 0s 80us/step - loss: 1.3997 - mean_absolute_error: 1.3997\n",
      "Epoch 108/200\n",
      "2352/2352 [==============================] - 0s 84us/step - loss: 1.4972 - mean_absolute_error: 1.4972\n",
      "Epoch 109/200\n",
      "2352/2352 [==============================] - 0s 81us/step - loss: 1.4231 - mean_absolute_error: 1.4231\n",
      "Epoch 110/200\n",
      "2352/2352 [==============================] - 0s 92us/step - loss: 1.1830 - mean_absolute_error: 1.1830\n",
      "Epoch 111/200\n",
      "2352/2352 [==============================] - 0s 85us/step - loss: 0.8573 - mean_absolute_error: 0.8573\n",
      "Epoch 112/200\n",
      "2352/2352 [==============================] - 0s 86us/step - loss: 0.8651 - mean_absolute_error: 0.8651\n",
      "Epoch 113/200\n",
      "2352/2352 [==============================] - 0s 88us/step - loss: 1.1686 - mean_absolute_error: 1.1686\n",
      "Epoch 114/200\n",
      "2352/2352 [==============================] - 0s 90us/step - loss: 1.4840 - mean_absolute_error: 1.4840\n",
      "Epoch 115/200\n",
      "2352/2352 [==============================] - 0s 92us/step - loss: 1.1797 - mean_absolute_error: 1.1797\n",
      "Epoch 116/200\n",
      "2352/2352 [==============================] - 0s 93us/step - loss: 1.2116 - mean_absolute_error: 1.2116\n",
      "Epoch 117/200\n",
      "2352/2352 [==============================] - 0s 92us/step - loss: 0.8368 - mean_absolute_error: 0.8368\n",
      "Epoch 118/200\n",
      "2352/2352 [==============================] - 0s 91us/step - loss: 0.8475 - mean_absolute_error: 0.8475\n",
      "Epoch 119/200\n",
      "2352/2352 [==============================] - 0s 87us/step - loss: 1.1174 - mean_absolute_error: 1.1174\n",
      "Epoch 120/200\n",
      "2352/2352 [==============================] - 0s 88us/step - loss: 1.1803 - mean_absolute_error: 1.1803\n",
      "Epoch 121/200\n",
      "2352/2352 [==============================] - 0s 84us/step - loss: 0.9162 - mean_absolute_error: 0.9162\n",
      "Epoch 122/200\n",
      "2352/2352 [==============================] - 0s 86us/step - loss: 0.8660 - mean_absolute_error: 0.8660\n",
      "Epoch 123/200\n",
      "2352/2352 [==============================] - 0s 88us/step - loss: 0.9315 - mean_absolute_error: 0.9315\n",
      "Epoch 124/200\n",
      "2352/2352 [==============================] - 0s 84us/step - loss: 0.8340 - mean_absolute_error: 0.8340\n",
      "Epoch 125/200\n",
      "2352/2352 [==============================] - 0s 77us/step - loss: 0.7862 - mean_absolute_error: 0.7862\n",
      "Epoch 126/200\n",
      "2352/2352 [==============================] - 0s 77us/step - loss: 0.7981 - mean_absolute_error: 0.7981\n",
      "Epoch 127/200\n",
      "2352/2352 [==============================] - 0s 88us/step - loss: 0.7710 - mean_absolute_error: 0.7710\n",
      "Epoch 128/200\n",
      "2352/2352 [==============================] - 0s 84us/step - loss: 0.8165 - mean_absolute_error: 0.8165\n",
      "Epoch 129/200\n",
      "2352/2352 [==============================] - 0s 90us/step - loss: 0.7861 - mean_absolute_error: 0.7861\n",
      "Epoch 130/200\n",
      "2352/2352 [==============================] - 0s 89us/step - loss: 0.8389 - mean_absolute_error: 0.8389\n",
      "Epoch 131/200\n",
      "2352/2352 [==============================] - 0s 91us/step - loss: 0.7598 - mean_absolute_error: 0.7598\n",
      "Epoch 132/200\n",
      "2352/2352 [==============================] - 0s 91us/step - loss: 1.0627 - mean_absolute_error: 1.0627\n",
      "Epoch 133/200\n",
      "2352/2352 [==============================] - 0s 90us/step - loss: 25.9768 - mean_absolute_error: 25.9768\n",
      "Epoch 134/200\n",
      "2352/2352 [==============================] - 0s 87us/step - loss: 123.5347 - mean_absolute_error: 123.5347\n",
      "Epoch 135/200\n",
      "2352/2352 [==============================] - 0s 83us/step - loss: 20.4536 - mean_absolute_error: 20.4536\n",
      "Epoch 136/200\n",
      "2352/2352 [==============================] - 0s 84us/step - loss: 1.1287 - mean_absolute_error: 1.1287\n",
      "Epoch 137/200\n",
      "2352/2352 [==============================] - 0s 92us/step - loss: 0.7168 - mean_absolute_error: 0.7168\n",
      "Epoch 138/200\n",
      "2352/2352 [==============================] - 0s 89us/step - loss: 0.7048 - mean_absolute_error: 0.7048\n",
      "Epoch 139/200\n",
      "2352/2352 [==============================] - 0s 93us/step - loss: 0.7044 - mean_absolute_error: 0.7044\n",
      "Epoch 140/200\n",
      "2352/2352 [==============================] - 0s 108us/step - loss: 0.7044 - mean_absolute_error: 0.7044\n",
      "Epoch 141/200\n",
      "2352/2352 [==============================] - 0s 94us/step - loss: 0.7044 - mean_absolute_error: 0.7044\n",
      "Epoch 142/200\n",
      "2352/2352 [==============================] - 0s 94us/step - loss: 0.7045 - mean_absolute_error: 0.7045\n",
      "Epoch 143/200\n",
      "2352/2352 [==============================] - 0s 91us/step - loss: 0.7043 - mean_absolute_error: 0.7043\n",
      "Epoch 144/200\n",
      "2352/2352 [==============================] - 0s 93us/step - loss: 0.7045 - mean_absolute_error: 0.7045\n",
      "Epoch 145/200\n",
      "2352/2352 [==============================] - 0s 96us/step - loss: 0.7046 - mean_absolute_error: 0.7046\n",
      "Epoch 146/200\n",
      "2352/2352 [==============================] - 0s 100us/step - loss: 0.7046 - mean_absolute_error: 0.7046\n",
      "Epoch 147/200\n",
      "2352/2352 [==============================] - 0s 98us/step - loss: 0.7043 - mean_absolute_error: 0.7043\n",
      "Epoch 148/200\n",
      "2352/2352 [==============================] - 0s 95us/step - loss: 0.7045 - mean_absolute_error: 0.7045\n",
      "Epoch 149/200\n",
      "2352/2352 [==============================] - 0s 95us/step - loss: 0.7045 - mean_absolute_error: 0.7045\n",
      "Epoch 150/200\n",
      "2352/2352 [==============================] - 0s 96us/step - loss: 0.7044 - mean_absolute_error: 0.7044\n",
      "Epoch 151/200\n",
      "2352/2352 [==============================] - 0s 86us/step - loss: 0.7044 - mean_absolute_error: 0.7044\n",
      "Epoch 152/200\n",
      "2352/2352 [==============================] - 0s 96us/step - loss: 0.7042 - mean_absolute_error: 0.7042\n",
      "Epoch 153/200\n",
      "2352/2352 [==============================] - 0s 94us/step - loss: 0.7041 - mean_absolute_error: 0.7041\n",
      "Epoch 154/200\n",
      "2352/2352 [==============================] - 0s 90us/step - loss: 0.7041 - mean_absolute_error: 0.7041\n",
      "Epoch 155/200\n",
      "2352/2352 [==============================] - 0s 93us/step - loss: 0.7042 - mean_absolute_error: 0.7042\n",
      "Epoch 156/200\n",
      "2352/2352 [==============================] - 0s 91us/step - loss: 0.7044 - mean_absolute_error: 0.7044\n",
      "Epoch 157/200\n",
      "2352/2352 [==============================] - 0s 81us/step - loss: 0.7045 - mean_absolute_error: 0.7045\n",
      "Epoch 158/200\n",
      "2352/2352 [==============================] - 0s 84us/step - loss: 0.7042 - mean_absolute_error: 0.7042\n",
      "Epoch 159/200\n",
      "2352/2352 [==============================] - 0s 93us/step - loss: 0.7041 - mean_absolute_error: 0.7041\n",
      "Epoch 160/200\n",
      "2352/2352 [==============================] - 0s 92us/step - loss: 0.7042 - mean_absolute_error: 0.7042\n",
      "Epoch 161/200\n",
      "2352/2352 [==============================] - 0s 96us/step - loss: 0.7041 - mean_absolute_error: 0.7041\n",
      "Epoch 162/200\n",
      "2352/2352 [==============================] - 0s 91us/step - loss: 0.7043 - mean_absolute_error: 0.7043\n",
      "Epoch 163/200\n",
      "2352/2352 [==============================] - 0s 92us/step - loss: 0.7044 - mean_absolute_error: 0.7044\n",
      "Epoch 164/200\n",
      "2352/2352 [==============================] - 0s 89us/step - loss: 0.7044 - mean_absolute_error: 0.7044\n",
      "Epoch 165/200\n",
      "2352/2352 [==============================] - 0s 92us/step - loss: 0.7041 - mean_absolute_error: 0.7041\n",
      "Epoch 166/200\n",
      "2352/2352 [==============================] - 0s 90us/step - loss: 0.7041 - mean_absolute_error: 0.7041\n",
      "Epoch 167/200\n",
      "2352/2352 [==============================] - 0s 90us/step - loss: 0.7044 - mean_absolute_error: 0.7044\n",
      "Epoch 168/200\n",
      "2352/2352 [==============================] - 0s 94us/step - loss: 0.7039 - mean_absolute_error: 0.7039\n",
      "Epoch 169/200\n",
      "2352/2352 [==============================] - 0s 101us/step - loss: 0.7041 - mean_absolute_error: 0.7041\n",
      "Epoch 170/200\n",
      "2352/2352 [==============================] - 0s 99us/step - loss: 0.7041 - mean_absolute_error: 0.7041\n",
      "Epoch 171/200\n",
      "2352/2352 [==============================] - 0s 85us/step - loss: 0.7046 - mean_absolute_error: 0.7046\n",
      "Epoch 172/200\n",
      "2352/2352 [==============================] - 0s 85us/step - loss: 0.7042 - mean_absolute_error: 0.7042\n",
      "Epoch 173/200\n",
      "2352/2352 [==============================] - 0s 92us/step - loss: 0.7041 - mean_absolute_error: 0.7041\n",
      "Epoch 174/200\n",
      "2352/2352 [==============================] - 0s 91us/step - loss: 0.7043 - mean_absolute_error: 0.7043\n",
      "Epoch 175/200\n",
      "2352/2352 [==============================] - 0s 92us/step - loss: 0.7042 - mean_absolute_error: 0.7042\n",
      "Epoch 176/200\n",
      "2352/2352 [==============================] - 0s 87us/step - loss: 0.7041 - mean_absolute_error: 0.7041\n",
      "Epoch 177/200\n",
      "2352/2352 [==============================] - 0s 84us/step - loss: 0.7040 - mean_absolute_error: 0.7040\n",
      "Epoch 178/200\n",
      "2352/2352 [==============================] - 0s 85us/step - loss: 0.7040 - mean_absolute_error: 0.7040\n",
      "Epoch 179/200\n",
      "2352/2352 [==============================] - 0s 93us/step - loss: 0.7040 - mean_absolute_error: 0.7040\n",
      "Epoch 180/200\n",
      "2352/2352 [==============================] - 0s 83us/step - loss: 0.7039 - mean_absolute_error: 0.7039\n",
      "Epoch 181/200\n",
      "2352/2352 [==============================] - 0s 85us/step - loss: 0.7041 - mean_absolute_error: 0.7041\n",
      "Epoch 182/200\n",
      "2352/2352 [==============================] - 0s 92us/step - loss: 0.7039 - mean_absolute_error: 0.7039\n",
      "Epoch 183/200\n",
      "2352/2352 [==============================] - 0s 94us/step - loss: 0.7037 - mean_absolute_error: 0.7037\n",
      "Epoch 184/200\n",
      "2352/2352 [==============================] - 0s 92us/step - loss: 0.7038 - mean_absolute_error: 0.7038\n",
      "Epoch 185/200\n",
      "2352/2352 [==============================] - 0s 94us/step - loss: 0.7040 - mean_absolute_error: 0.7040\n",
      "Epoch 186/200\n",
      "2352/2352 [==============================] - 0s 94us/step - loss: 0.7039 - mean_absolute_error: 0.7039\n",
      "Epoch 187/200\n",
      "2352/2352 [==============================] - 0s 99us/step - loss: 0.7037 - mean_absolute_error: 0.7037\n",
      "Epoch 188/200\n",
      "2352/2352 [==============================] - 0s 103us/step - loss: 0.7038 - mean_absolute_error: 0.7038\n",
      "Epoch 189/200\n",
      "2352/2352 [==============================] - 0s 89us/step - loss: 0.7036 - mean_absolute_error: 0.7036\n",
      "Epoch 190/200\n",
      "2352/2352 [==============================] - 0s 89us/step - loss: 0.7035 - mean_absolute_error: 0.7035\n",
      "Epoch 191/200\n",
      "2352/2352 [==============================] - 0s 89us/step - loss: 0.7036 - mean_absolute_error: 0.7036\n",
      "Epoch 192/200\n",
      "2352/2352 [==============================] - 0s 87us/step - loss: 0.7304 - mean_absolute_error: 0.7304\n",
      "Epoch 193/200\n",
      "2352/2352 [==============================] - 0s 85us/step - loss: 0.7046 - mean_absolute_error: 0.7046\n",
      "Epoch 194/200\n",
      "2352/2352 [==============================] - 0s 89us/step - loss: 0.7041 - mean_absolute_error: 0.7041\n",
      "Epoch 195/200\n",
      "2352/2352 [==============================] - 0s 90us/step - loss: 0.7047 - mean_absolute_error: 0.7047\n",
      "Epoch 196/200\n",
      "2352/2352 [==============================] - 0s 88us/step - loss: 0.7042 - mean_absolute_error: 0.7042\n",
      "Epoch 197/200\n",
      "2352/2352 [==============================] - 0s 90us/step - loss: 0.7039 - mean_absolute_error: 0.7039\n",
      "Epoch 198/200\n",
      "2352/2352 [==============================] - 0s 88us/step - loss: 0.7040 - mean_absolute_error: 0.7040\n",
      "Epoch 199/200\n",
      "2352/2352 [==============================] - 0s 87us/step - loss: 0.7042 - mean_absolute_error: 0.7042\n",
      "Epoch 200/200\n",
      "2352/2352 [==============================] - 0s 96us/step - loss: 0.7050 - mean_absolute_error: 0.7050\n"
     ]
    },
    {
     "data": {
      "text/plain": [
       "<keras.callbacks.callbacks.History at 0x14e240590>"
      ]
     },
     "execution_count": 79,
     "metadata": {},
     "output_type": "execute_result"
    }
   ],
   "source": [
    "x_train# first neural network with keras tutorial\n",
    "\n",
    "y=movies_ratings.rating\n",
    "x=movies_ratings.drop('rating',axis=1)\n",
    "\n",
    "# fit the keras model on the dataset\n",
    "NN_model = Sequential()\n",
    "\n",
    "# The Input Layer :\n",
    "NN_model.add(Dense(128, kernel_initializer='normal',input_dim = 109, activation='relu'))\n",
    "\n",
    "# The Hidden Layers :\n",
    "NN_model.add(Dense(256, kernel_initializer='normal',activation='relu'))\n",
    "NN_model.add(Dense(256, kernel_initializer='normal',activation='relu'))\n",
    "NN_model.add(Dense(256, kernel_initializer='normal',activation='relu'))\n",
    "NN_model.add(Dense(256, kernel_initializer='normal',activation='relu'))\n",
    "NN_model.add(Dense(256, kernel_initializer='normal',activation='relu'))\n",
    "\n",
    "\n",
    "# The Output Layer :\n",
    "NN_model.add(Dense(1, kernel_initializer='normal',activation='linear'))\n",
    "\n",
    "# Compile the network :\n",
    "NN_model.compile(loss='mean_absolute_error', optimizer='adam', metrics=['mean_absolute_error'])\n",
    "NN_model.summary()\n",
    "NN_model.fit(x_train, y_train, epochs=200, batch_size=32)"
   ]
  },
  {
   "cell_type": "code",
   "execution_count": 70,
   "metadata": {},
   "outputs": [],
   "source": [
    "y_test = y_test.to_frame()"
   ]
  },
  {
   "cell_type": "code",
   "execution_count": 71,
   "metadata": {},
   "outputs": [],
   "source": [
    "y_test = y_test.reset_index()"
   ]
  },
  {
   "cell_type": "code",
   "execution_count": 80,
   "metadata": {},
   "outputs": [
    {
     "data": {
      "text/plain": [
       "pandas.core.series.Series"
      ]
     },
     "execution_count": 80,
     "metadata": {},
     "output_type": "execute_result"
    }
   ],
   "source": [
    "#Predict\n",
    "y_4 = NN_model.predict(x_test).tolist()\n",
    "y_4 = pd.Series(y_4)\n",
    "type(y_4)"
   ]
  },
  {
   "cell_type": "code",
   "execution_count": 81,
   "metadata": {},
   "outputs": [
    {
     "name": "stderr",
     "output_type": "stream",
     "text": [
      "/opt/anaconda3/lib/python3.7/site-packages/ipykernel_launcher.py:1: FutureWarning: from_items is deprecated. Please use DataFrame.from_dict(dict(items), ...) instead. DataFrame.from_dict(OrderedDict(items)) may be used to preserve the key order.\n",
      "  \"\"\"Entry point for launching an IPython kernel.\n"
     ]
    }
   ],
   "source": [
    "y_4=pd.DataFrame.from_items(zip(y_4.index,y_4.values))"
   ]
  },
  {
   "cell_type": "code",
   "execution_count": 82,
   "metadata": {},
   "outputs": [],
   "source": [
    "y_4=y_4.transpose()"
   ]
  },
  {
   "cell_type": "code",
   "execution_count": 75,
   "metadata": {},
   "outputs": [],
   "source": [
    "#pd.DataFrame(y_4).to_numpy"
   ]
  },
  {
   "cell_type": "code",
   "execution_count": 83,
   "metadata": {},
   "outputs": [
    {
     "data": {
      "text/html": [
       "<div>\n",
       "<style scoped>\n",
       "    .dataframe tbody tr th:only-of-type {\n",
       "        vertical-align: middle;\n",
       "    }\n",
       "\n",
       "    .dataframe tbody tr th {\n",
       "        vertical-align: top;\n",
       "    }\n",
       "\n",
       "    .dataframe thead th {\n",
       "        text-align: right;\n",
       "    }\n",
       "</style>\n",
       "<table border=\"1\" class=\"dataframe\">\n",
       "  <thead>\n",
       "    <tr style=\"text-align: right;\">\n",
       "      <th></th>\n",
       "      <th>Actual</th>\n",
       "      <th>Predicted</th>\n",
       "    </tr>\n",
       "  </thead>\n",
       "  <tbody>\n",
       "    <tr>\n",
       "      <td>0</td>\n",
       "      <td>7.1</td>\n",
       "      <td>6.815780</td>\n",
       "    </tr>\n",
       "    <tr>\n",
       "      <td>1</td>\n",
       "      <td>8.0</td>\n",
       "      <td>6.815780</td>\n",
       "    </tr>\n",
       "    <tr>\n",
       "      <td>2</td>\n",
       "      <td>7.5</td>\n",
       "      <td>6.815780</td>\n",
       "    </tr>\n",
       "    <tr>\n",
       "      <td>3</td>\n",
       "      <td>6.7</td>\n",
       "      <td>6.815780</td>\n",
       "    </tr>\n",
       "    <tr>\n",
       "      <td>4</td>\n",
       "      <td>6.3</td>\n",
       "      <td>6.815780</td>\n",
       "    </tr>\n",
       "    <tr>\n",
       "      <td>5</td>\n",
       "      <td>6.1</td>\n",
       "      <td>6.815780</td>\n",
       "    </tr>\n",
       "    <tr>\n",
       "      <td>6</td>\n",
       "      <td>7.0</td>\n",
       "      <td>6.815780</td>\n",
       "    </tr>\n",
       "    <tr>\n",
       "      <td>7</td>\n",
       "      <td>7.7</td>\n",
       "      <td>6.815780</td>\n",
       "    </tr>\n",
       "    <tr>\n",
       "      <td>8</td>\n",
       "      <td>6.1</td>\n",
       "      <td>6.760609</td>\n",
       "    </tr>\n",
       "    <tr>\n",
       "      <td>9</td>\n",
       "      <td>7.0</td>\n",
       "      <td>6.815780</td>\n",
       "    </tr>\n",
       "    <tr>\n",
       "      <td>10</td>\n",
       "      <td>6.0</td>\n",
       "      <td>6.815780</td>\n",
       "    </tr>\n",
       "    <tr>\n",
       "      <td>11</td>\n",
       "      <td>6.2</td>\n",
       "      <td>6.815780</td>\n",
       "    </tr>\n",
       "    <tr>\n",
       "      <td>12</td>\n",
       "      <td>7.5</td>\n",
       "      <td>6.815780</td>\n",
       "    </tr>\n",
       "    <tr>\n",
       "      <td>13</td>\n",
       "      <td>6.5</td>\n",
       "      <td>6.815780</td>\n",
       "    </tr>\n",
       "    <tr>\n",
       "      <td>14</td>\n",
       "      <td>7.8</td>\n",
       "      <td>6.815780</td>\n",
       "    </tr>\n",
       "    <tr>\n",
       "      <td>15</td>\n",
       "      <td>7.5</td>\n",
       "      <td>6.815780</td>\n",
       "    </tr>\n",
       "    <tr>\n",
       "      <td>16</td>\n",
       "      <td>6.7</td>\n",
       "      <td>6.815780</td>\n",
       "    </tr>\n",
       "    <tr>\n",
       "      <td>17</td>\n",
       "      <td>6.6</td>\n",
       "      <td>6.815780</td>\n",
       "    </tr>\n",
       "    <tr>\n",
       "      <td>18</td>\n",
       "      <td>7.9</td>\n",
       "      <td>6.815780</td>\n",
       "    </tr>\n",
       "    <tr>\n",
       "      <td>19</td>\n",
       "      <td>5.7</td>\n",
       "      <td>6.815780</td>\n",
       "    </tr>\n",
       "  </tbody>\n",
       "</table>\n",
       "</div>"
      ],
      "text/plain": [
       "    Actual  Predicted\n",
       "0      7.1   6.815780\n",
       "1      8.0   6.815780\n",
       "2      7.5   6.815780\n",
       "3      6.7   6.815780\n",
       "4      6.3   6.815780\n",
       "5      6.1   6.815780\n",
       "6      7.0   6.815780\n",
       "7      7.7   6.815780\n",
       "8      6.1   6.760609\n",
       "9      7.0   6.815780\n",
       "10     6.0   6.815780\n",
       "11     6.2   6.815780\n",
       "12     7.5   6.815780\n",
       "13     6.5   6.815780\n",
       "14     7.8   6.815780\n",
       "15     7.5   6.815780\n",
       "16     6.7   6.815780\n",
       "17     6.6   6.815780\n",
       "18     7.9   6.815780\n",
       "19     5.7   6.815780"
      ]
     },
     "execution_count": 83,
     "metadata": {},
     "output_type": "execute_result"
    }
   ],
   "source": [
    "df5 = pd.DataFrame({'Actual': y_test['rating'], 'Predicted': y_4[0]})\n",
    "df6=df5.head(20)\n",
    "df6"
   ]
  },
  {
   "cell_type": "code",
   "execution_count": 84,
   "metadata": {},
   "outputs": [
    {
     "name": "stdout",
     "output_type": "stream",
     "text": [
      "Mean Absolute Error: 0.7417412736788898\n",
      "Mean Squared Error: 0.8877306256962635\n",
      "Root Mean Squared Error: 0.9421945795302918\n"
     ]
    }
   ],
   "source": [
    "print('Mean Absolute Error:', metrics.mean_absolute_error(y_test['rating'], y_4[0]))  \n",
    "print('Mean Squared Error:', metrics.mean_squared_error(y_test['rating'], y_4[0]))  \n",
    "print('Root Mean Squared Error:', np.sqrt(metrics.mean_squared_error(y_test['rating'], y_4[0])))"
   ]
  },
  {
   "cell_type": "code",
   "execution_count": 85,
   "metadata": {},
   "outputs": [
    {
     "data": {
      "image/png": "[encoded data removed]",
      "text/plain": [
       "<Figure size 720x576 with 1 Axes>"
      ]
     },
     "metadata": {
      "needs_background": "light"
     },
     "output_type": "display_data"
    }
   ],
   "source": [
    "df6.plot(kind='bar',figsize=(10,8))\n",
    "plt.grid(which='major', linestyle='-', linewidth='0.5', color='green')\n",
    "plt.grid(which='minor', linestyle=':', linewidth='0.5', color='black')\n",
    "plt.show()"
   ]
  },
  {
   "cell_type": "markdown",
   "metadata": {},
   "source": [
    "### Conclusion"
   ]
  },
  {
   "cell_type": "markdown",
   "metadata": {},
   "source": [
    "After using different models to predict the movies' ratings, using MSE as a score metric to evaluate models:\n",
    "- Order of model fit: Linear Regression > Random Forest > Regression Tree > Neural Net"
   ]
  }
 ],
 "metadata": {
  "kernelspec": {
   "display_name": "Python 3",
   "language": "python",
   "name": "python3"
  },
  "language_info": {
   "codemirror_mode": {
    "name": "ipython",
    "version": 3
   },
   "file_extension": ".py",
   "mimetype": "text/x-python",
   "name": "python",
   "nbconvert_exporter": "python",
   "pygments_lexer": "ipython3",
   "version": "3.7.4"
  }
 },
 "nbformat": 4,
 "nbformat_minor": 4
}
